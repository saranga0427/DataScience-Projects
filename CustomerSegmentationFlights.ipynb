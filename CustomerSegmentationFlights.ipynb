{
  "nbformat": 4,
  "nbformat_minor": 0,
  "metadata": {
    "colab": {
      "provenance": [],
      "authorship_tag": "ABX9TyPtxzEE1CjOtC10c1S3EGp/",
      "include_colab_link": true
    },
    "kernelspec": {
      "name": "python3",
      "display_name": "Python 3"
    },
    "language_info": {
      "name": "python"
    }
  },
  "cells": [
    {
      "cell_type": "markdown",
      "metadata": {
        "id": "view-in-github",
        "colab_type": "text"
      },
      "source": [
        "<a href=\"https://colab.research.google.com/github/saranga0427/DataScience-Projects/blob/Learning-DS/CustomerSegmentationFlights.ipynb\" target=\"_parent\"><img src=\"https://colab.research.google.com/assets/colab-badge.svg\" alt=\"Open In Colab\"/></a>"
      ]
    },
    {
      "cell_type": "code",
      "execution_count": null,
      "metadata": {
        "id": "xkgMBzI-0_ZH"
      },
      "outputs": [],
      "source": [
        "import pandas as pd"
      ]
    },
    {
      "cell_type": "code",
      "source": [
        "data = pd.read_csv('flight_test.csv')"
      ],
      "metadata": {
        "id": "wBXJs-fVr2uT"
      },
      "execution_count": null,
      "outputs": []
    },
    {
      "cell_type": "code",
      "source": [
        "data.shape"
      ],
      "metadata": {
        "colab": {
          "base_uri": "https://localhost:8080/"
        },
        "id": "PkvcYTw4r8vB",
        "outputId": "b18d4325-11e0-477c-e911-6b9293fad8c4"
      },
      "execution_count": null,
      "outputs": [
        {
          "output_type": "execute_result",
          "data": {
            "text/plain": [
              "(7988, 23)"
            ]
          },
          "metadata": {},
          "execution_count": 49
        }
      ]
    },
    {
      "cell_type": "code",
      "source": [
        "data.head(5)"
      ],
      "metadata": {
        "colab": {
          "base_uri": "https://localhost:8080/",
          "height": 299
        },
        "id": "Rxwtpf3Nr-sr",
        "outputId": "26034235-e990-4060-dfc3-3fe843d29770"
      },
      "execution_count": null,
      "outputs": [
        {
          "output_type": "execute_result",
          "data": {
            "text/plain": [
              "   MEMBER_NO   FFP_DATE FIRST_FLIGHT_DATE  GENDER  FFP_TIER     WORK_CITY  \\\n",
              "0      27355  9/19/2011          6/2/2012    Male         4       nanjing   \n",
              "1       4032  9/18/2012         9/18/2012  Female         4  changchunshi   \n",
              "2      12913  3/18/2009         3/18/2009    Male         4       beijing   \n",
              "3      58465   9/6/2012         10/3/2012    Male         4       shantou   \n",
              "4      45414  6/13/2012          9/6/2012    Male         4     guangzhou   \n",
              "\n",
              "  WORK_PROVINCE WORK_COUNTRY   AGE  LOAD_TIME  ...  SUM_YR_2  SEG_KM_SUM  \\\n",
              "0       jiangsu           CN  29.0  3/31/2014  ...       0.0        2005   \n",
              "1    jilinsheng           CN  43.0  3/31/2014  ...     984.0        2301   \n",
              "2       beijing           CN  31.0  3/31/2014  ...       0.0        2397   \n",
              "3     guangdong           CN  30.0  3/31/2014  ...     485.0        2852   \n",
              "4     guangdong           CN  40.0  3/31/2014  ...     442.0        3777   \n",
              "\n",
              "   LAST_FLIGHT_DATE  LAST_TO_END  AVG_INTERVAL MAX_INTERVAL  EXCHANGE_COUNT  \\\n",
              "0         9/30/2012          549         120.0          120               0   \n",
              "1          2/4/2014           57         252.0          477               0   \n",
              "2         3/13/2013          385         115.5          167               0   \n",
              "3         6/18/2013          288          86.0          174               0   \n",
              "4         2/25/2014           36         268.5          536               0   \n",
              "\n",
              "   avg_discount  Points_Sum  Point_NotFlight  \n",
              "0      1.000000        2879                6  \n",
              "1      0.871291        1731                0  \n",
              "2      0.836358        1626                0  \n",
              "3      0.702924        1786                0  \n",
              "4      0.530725        3639               22  \n",
              "\n",
              "[5 rows x 23 columns]"
            ],
            "text/html": [
              "\n",
              "  <div id=\"df-c3f19cb0-6d22-4539-989e-5eb9699393c4\">\n",
              "    <div class=\"colab-df-container\">\n",
              "      <div>\n",
              "<style scoped>\n",
              "    .dataframe tbody tr th:only-of-type {\n",
              "        vertical-align: middle;\n",
              "    }\n",
              "\n",
              "    .dataframe tbody tr th {\n",
              "        vertical-align: top;\n",
              "    }\n",
              "\n",
              "    .dataframe thead th {\n",
              "        text-align: right;\n",
              "    }\n",
              "</style>\n",
              "<table border=\"1\" class=\"dataframe\">\n",
              "  <thead>\n",
              "    <tr style=\"text-align: right;\">\n",
              "      <th></th>\n",
              "      <th>MEMBER_NO</th>\n",
              "      <th>FFP_DATE</th>\n",
              "      <th>FIRST_FLIGHT_DATE</th>\n",
              "      <th>GENDER</th>\n",
              "      <th>FFP_TIER</th>\n",
              "      <th>WORK_CITY</th>\n",
              "      <th>WORK_PROVINCE</th>\n",
              "      <th>WORK_COUNTRY</th>\n",
              "      <th>AGE</th>\n",
              "      <th>LOAD_TIME</th>\n",
              "      <th>...</th>\n",
              "      <th>SUM_YR_2</th>\n",
              "      <th>SEG_KM_SUM</th>\n",
              "      <th>LAST_FLIGHT_DATE</th>\n",
              "      <th>LAST_TO_END</th>\n",
              "      <th>AVG_INTERVAL</th>\n",
              "      <th>MAX_INTERVAL</th>\n",
              "      <th>EXCHANGE_COUNT</th>\n",
              "      <th>avg_discount</th>\n",
              "      <th>Points_Sum</th>\n",
              "      <th>Point_NotFlight</th>\n",
              "    </tr>\n",
              "  </thead>\n",
              "  <tbody>\n",
              "    <tr>\n",
              "      <th>0</th>\n",
              "      <td>27355</td>\n",
              "      <td>9/19/2011</td>\n",
              "      <td>6/2/2012</td>\n",
              "      <td>Male</td>\n",
              "      <td>4</td>\n",
              "      <td>nanjing</td>\n",
              "      <td>jiangsu</td>\n",
              "      <td>CN</td>\n",
              "      <td>29.0</td>\n",
              "      <td>3/31/2014</td>\n",
              "      <td>...</td>\n",
              "      <td>0.0</td>\n",
              "      <td>2005</td>\n",
              "      <td>9/30/2012</td>\n",
              "      <td>549</td>\n",
              "      <td>120.0</td>\n",
              "      <td>120</td>\n",
              "      <td>0</td>\n",
              "      <td>1.000000</td>\n",
              "      <td>2879</td>\n",
              "      <td>6</td>\n",
              "    </tr>\n",
              "    <tr>\n",
              "      <th>1</th>\n",
              "      <td>4032</td>\n",
              "      <td>9/18/2012</td>\n",
              "      <td>9/18/2012</td>\n",
              "      <td>Female</td>\n",
              "      <td>4</td>\n",
              "      <td>changchunshi</td>\n",
              "      <td>jilinsheng</td>\n",
              "      <td>CN</td>\n",
              "      <td>43.0</td>\n",
              "      <td>3/31/2014</td>\n",
              "      <td>...</td>\n",
              "      <td>984.0</td>\n",
              "      <td>2301</td>\n",
              "      <td>2/4/2014</td>\n",
              "      <td>57</td>\n",
              "      <td>252.0</td>\n",
              "      <td>477</td>\n",
              "      <td>0</td>\n",
              "      <td>0.871291</td>\n",
              "      <td>1731</td>\n",
              "      <td>0</td>\n",
              "    </tr>\n",
              "    <tr>\n",
              "      <th>2</th>\n",
              "      <td>12913</td>\n",
              "      <td>3/18/2009</td>\n",
              "      <td>3/18/2009</td>\n",
              "      <td>Male</td>\n",
              "      <td>4</td>\n",
              "      <td>beijing</td>\n",
              "      <td>beijing</td>\n",
              "      <td>CN</td>\n",
              "      <td>31.0</td>\n",
              "      <td>3/31/2014</td>\n",
              "      <td>...</td>\n",
              "      <td>0.0</td>\n",
              "      <td>2397</td>\n",
              "      <td>3/13/2013</td>\n",
              "      <td>385</td>\n",
              "      <td>115.5</td>\n",
              "      <td>167</td>\n",
              "      <td>0</td>\n",
              "      <td>0.836358</td>\n",
              "      <td>1626</td>\n",
              "      <td>0</td>\n",
              "    </tr>\n",
              "    <tr>\n",
              "      <th>3</th>\n",
              "      <td>58465</td>\n",
              "      <td>9/6/2012</td>\n",
              "      <td>10/3/2012</td>\n",
              "      <td>Male</td>\n",
              "      <td>4</td>\n",
              "      <td>shantou</td>\n",
              "      <td>guangdong</td>\n",
              "      <td>CN</td>\n",
              "      <td>30.0</td>\n",
              "      <td>3/31/2014</td>\n",
              "      <td>...</td>\n",
              "      <td>485.0</td>\n",
              "      <td>2852</td>\n",
              "      <td>6/18/2013</td>\n",
              "      <td>288</td>\n",
              "      <td>86.0</td>\n",
              "      <td>174</td>\n",
              "      <td>0</td>\n",
              "      <td>0.702924</td>\n",
              "      <td>1786</td>\n",
              "      <td>0</td>\n",
              "    </tr>\n",
              "    <tr>\n",
              "      <th>4</th>\n",
              "      <td>45414</td>\n",
              "      <td>6/13/2012</td>\n",
              "      <td>9/6/2012</td>\n",
              "      <td>Male</td>\n",
              "      <td>4</td>\n",
              "      <td>guangzhou</td>\n",
              "      <td>guangdong</td>\n",
              "      <td>CN</td>\n",
              "      <td>40.0</td>\n",
              "      <td>3/31/2014</td>\n",
              "      <td>...</td>\n",
              "      <td>442.0</td>\n",
              "      <td>3777</td>\n",
              "      <td>2/25/2014</td>\n",
              "      <td>36</td>\n",
              "      <td>268.5</td>\n",
              "      <td>536</td>\n",
              "      <td>0</td>\n",
              "      <td>0.530725</td>\n",
              "      <td>3639</td>\n",
              "      <td>22</td>\n",
              "    </tr>\n",
              "  </tbody>\n",
              "</table>\n",
              "<p>5 rows × 23 columns</p>\n",
              "</div>\n",
              "      <button class=\"colab-df-convert\" onclick=\"convertToInteractive('df-c3f19cb0-6d22-4539-989e-5eb9699393c4')\"\n",
              "              title=\"Convert this dataframe to an interactive table.\"\n",
              "              style=\"display:none;\">\n",
              "        \n",
              "  <svg xmlns=\"http://www.w3.org/2000/svg\" height=\"24px\"viewBox=\"0 0 24 24\"\n",
              "       width=\"24px\">\n",
              "    <path d=\"M0 0h24v24H0V0z\" fill=\"none\"/>\n",
              "    <path d=\"M18.56 5.44l.94 2.06.94-2.06 2.06-.94-2.06-.94-.94-2.06-.94 2.06-2.06.94zm-11 1L8.5 8.5l.94-2.06 2.06-.94-2.06-.94L8.5 2.5l-.94 2.06-2.06.94zm10 10l.94 2.06.94-2.06 2.06-.94-2.06-.94-.94-2.06-.94 2.06-2.06.94z\"/><path d=\"M17.41 7.96l-1.37-1.37c-.4-.4-.92-.59-1.43-.59-.52 0-1.04.2-1.43.59L10.3 9.45l-7.72 7.72c-.78.78-.78 2.05 0 2.83L4 21.41c.39.39.9.59 1.41.59.51 0 1.02-.2 1.41-.59l7.78-7.78 2.81-2.81c.8-.78.8-2.07 0-2.86zM5.41 20L4 18.59l7.72-7.72 1.47 1.35L5.41 20z\"/>\n",
              "  </svg>\n",
              "      </button>\n",
              "      \n",
              "  <style>\n",
              "    .colab-df-container {\n",
              "      display:flex;\n",
              "      flex-wrap:wrap;\n",
              "      gap: 12px;\n",
              "    }\n",
              "\n",
              "    .colab-df-convert {\n",
              "      background-color: #E8F0FE;\n",
              "      border: none;\n",
              "      border-radius: 50%;\n",
              "      cursor: pointer;\n",
              "      display: none;\n",
              "      fill: #1967D2;\n",
              "      height: 32px;\n",
              "      padding: 0 0 0 0;\n",
              "      width: 32px;\n",
              "    }\n",
              "\n",
              "    .colab-df-convert:hover {\n",
              "      background-color: #E2EBFA;\n",
              "      box-shadow: 0px 1px 2px rgba(60, 64, 67, 0.3), 0px 1px 3px 1px rgba(60, 64, 67, 0.15);\n",
              "      fill: #174EA6;\n",
              "    }\n",
              "\n",
              "    [theme=dark] .colab-df-convert {\n",
              "      background-color: #3B4455;\n",
              "      fill: #D2E3FC;\n",
              "    }\n",
              "\n",
              "    [theme=dark] .colab-df-convert:hover {\n",
              "      background-color: #434B5C;\n",
              "      box-shadow: 0px 1px 3px 1px rgba(0, 0, 0, 0.15);\n",
              "      filter: drop-shadow(0px 1px 2px rgba(0, 0, 0, 0.3));\n",
              "      fill: #FFFFFF;\n",
              "    }\n",
              "  </style>\n",
              "\n",
              "      <script>\n",
              "        const buttonEl =\n",
              "          document.querySelector('#df-c3f19cb0-6d22-4539-989e-5eb9699393c4 button.colab-df-convert');\n",
              "        buttonEl.style.display =\n",
              "          google.colab.kernel.accessAllowed ? 'block' : 'none';\n",
              "\n",
              "        async function convertToInteractive(key) {\n",
              "          const element = document.querySelector('#df-c3f19cb0-6d22-4539-989e-5eb9699393c4');\n",
              "          const dataTable =\n",
              "            await google.colab.kernel.invokeFunction('convertToInteractive',\n",
              "                                                     [key], {});\n",
              "          if (!dataTable) return;\n",
              "\n",
              "          const docLinkHtml = 'Like what you see? Visit the ' +\n",
              "            '<a target=\"_blank\" href=https://colab.research.google.com/notebooks/data_table.ipynb>data table notebook</a>'\n",
              "            + ' to learn more about interactive tables.';\n",
              "          element.innerHTML = '';\n",
              "          dataTable['output_type'] = 'display_data';\n",
              "          await google.colab.output.renderOutput(dataTable, element);\n",
              "          const docLink = document.createElement('div');\n",
              "          docLink.innerHTML = docLinkHtml;\n",
              "          element.appendChild(docLink);\n",
              "        }\n",
              "      </script>\n",
              "    </div>\n",
              "  </div>\n",
              "  "
            ]
          },
          "metadata": {},
          "execution_count": 50
        }
      ]
    },
    {
      "cell_type": "code",
      "source": [
        "data.info()"
      ],
      "metadata": {
        "colab": {
          "base_uri": "https://localhost:8080/"
        },
        "id": "zBwIRl8ZsBBm",
        "outputId": "2dd55bb6-5d46-4b02-8ee7-92e515cd59ef"
      },
      "execution_count": null,
      "outputs": [
        {
          "output_type": "stream",
          "name": "stdout",
          "text": [
            "<class 'pandas.core.frame.DataFrame'>\n",
            "RangeIndex: 7988 entries, 0 to 7987\n",
            "Data columns (total 23 columns):\n",
            " #   Column             Non-Null Count  Dtype  \n",
            "---  ------             --------------  -----  \n",
            " 0   MEMBER_NO          7988 non-null   int64  \n",
            " 1   FFP_DATE           7988 non-null   object \n",
            " 2   FIRST_FLIGHT_DATE  7988 non-null   object \n",
            " 3   GENDER             7988 non-null   object \n",
            " 4   FFP_TIER           7988 non-null   int64  \n",
            " 5   WORK_CITY          7685 non-null   object \n",
            " 6   WORK_PROVINCE      7524 non-null   object \n",
            " 7   WORK_COUNTRY       7982 non-null   object \n",
            " 8   AGE                7910 non-null   float64\n",
            " 9   LOAD_TIME          7988 non-null   object \n",
            " 10  FLIGHT_COUNT       7988 non-null   int64  \n",
            " 11  BP_SUM             7988 non-null   int64  \n",
            " 12  SUM_YR_1           7699 non-null   float64\n",
            " 13  SUM_YR_2           7913 non-null   float64\n",
            " 14  SEG_KM_SUM         7988 non-null   int64  \n",
            " 15  LAST_FLIGHT_DATE   7988 non-null   object \n",
            " 16  LAST_TO_END        7988 non-null   int64  \n",
            " 17  AVG_INTERVAL       7988 non-null   float64\n",
            " 18  MAX_INTERVAL       7988 non-null   int64  \n",
            " 19  EXCHANGE_COUNT     7988 non-null   int64  \n",
            " 20  avg_discount       7988 non-null   float64\n",
            " 21  Points_Sum         7988 non-null   int64  \n",
            " 22  Point_NotFlight    7988 non-null   int64  \n",
            "dtypes: float64(5), int64(10), object(8)\n",
            "memory usage: 1.4+ MB\n"
          ]
        }
      ]
    },
    {
      "cell_type": "code",
      "source": [
        "data.describe()"
      ],
      "metadata": {
        "colab": {
          "base_uri": "https://localhost:8080/",
          "height": 364
        },
        "id": "vMqL_xn3sK7H",
        "outputId": "1ab0f23a-de51-41b4-fb83-ece0c4e07c0d"
      },
      "execution_count": null,
      "outputs": [
        {
          "output_type": "execute_result",
          "data": {
            "text/plain": [
              "          MEMBER_NO     FFP_TIER          AGE  FLIGHT_COUNT       BP_SUM  \\\n",
              "count   7988.000000  7988.000000  7910.000000   7988.000000  7988.000000   \n",
              "mean   31114.380696     4.008763    40.890898      2.378192  1028.221582   \n",
              "std    18222.504374     0.121232    10.297563      0.750483   514.824691   \n",
              "min        7.000000     4.000000     9.000000      2.000000     0.000000   \n",
              "25%    15411.750000     4.000000    33.000000      2.000000   692.000000   \n",
              "50%    31011.500000     4.000000    39.000000      2.000000  1012.000000   \n",
              "75%    46711.500000     4.000000    47.000000      3.000000  1386.000000   \n",
              "max    62887.000000     6.000000    92.000000     10.000000  4000.000000   \n",
              "\n",
              "          SUM_YR_1     SUM_YR_2   SEG_KM_SUM  LAST_TO_END  AVG_INTERVAL  \\\n",
              "count  7699.000000  7913.000000  7988.000000  7988.000000   7988.000000   \n",
              "mean    753.949474   594.095286  2438.785303   317.452929    100.593881   \n",
              "std     740.429594   657.696886   990.760396   211.237247    132.284864   \n",
              "min       0.000000     0.000000   368.000000     1.000000      0.000000   \n",
              "25%       0.000000     0.000000  1744.000000   130.000000      5.000000   \n",
              "50%     690.000000   462.000000  2293.500000   299.000000     46.000000   \n",
              "75%    1280.000000  1095.000000  2930.000000   497.000000    148.000000   \n",
              "max    7100.000000  5460.000000  8016.000000   731.000000    728.000000   \n",
              "\n",
              "       MAX_INTERVAL  EXCHANGE_COUNT  avg_discount     Points_Sum  \\\n",
              "count   7988.000000     7988.000000   7988.000000    7988.000000   \n",
              "mean     123.566224        0.030921      0.616935    1828.828117   \n",
              "std      152.106381        0.365907      0.205400   11573.723888   \n",
              "min        0.000000        0.000000      0.000000       0.000000   \n",
              "25%        5.000000        0.000000      0.450000     763.000000   \n",
              "50%       58.000000        0.000000      0.601520    1152.500000   \n",
              "75%      194.000000        0.000000      0.767436    1596.000000   \n",
              "max      728.000000       22.000000      1.500000  985572.000000   \n",
              "\n",
              "       Point_NotFlight  \n",
              "count      7988.000000  \n",
              "mean          2.047071  \n",
              "std           6.091004  \n",
              "min           0.000000  \n",
              "25%           0.000000  \n",
              "50%           0.000000  \n",
              "75%           0.000000  \n",
              "max          92.000000  "
            ],
            "text/html": [
              "\n",
              "  <div id=\"df-f5b1ed19-940b-4b81-a13c-8a53b040ed6a\">\n",
              "    <div class=\"colab-df-container\">\n",
              "      <div>\n",
              "<style scoped>\n",
              "    .dataframe tbody tr th:only-of-type {\n",
              "        vertical-align: middle;\n",
              "    }\n",
              "\n",
              "    .dataframe tbody tr th {\n",
              "        vertical-align: top;\n",
              "    }\n",
              "\n",
              "    .dataframe thead th {\n",
              "        text-align: right;\n",
              "    }\n",
              "</style>\n",
              "<table border=\"1\" class=\"dataframe\">\n",
              "  <thead>\n",
              "    <tr style=\"text-align: right;\">\n",
              "      <th></th>\n",
              "      <th>MEMBER_NO</th>\n",
              "      <th>FFP_TIER</th>\n",
              "      <th>AGE</th>\n",
              "      <th>FLIGHT_COUNT</th>\n",
              "      <th>BP_SUM</th>\n",
              "      <th>SUM_YR_1</th>\n",
              "      <th>SUM_YR_2</th>\n",
              "      <th>SEG_KM_SUM</th>\n",
              "      <th>LAST_TO_END</th>\n",
              "      <th>AVG_INTERVAL</th>\n",
              "      <th>MAX_INTERVAL</th>\n",
              "      <th>EXCHANGE_COUNT</th>\n",
              "      <th>avg_discount</th>\n",
              "      <th>Points_Sum</th>\n",
              "      <th>Point_NotFlight</th>\n",
              "    </tr>\n",
              "  </thead>\n",
              "  <tbody>\n",
              "    <tr>\n",
              "      <th>count</th>\n",
              "      <td>7988.000000</td>\n",
              "      <td>7988.000000</td>\n",
              "      <td>7910.000000</td>\n",
              "      <td>7988.000000</td>\n",
              "      <td>7988.000000</td>\n",
              "      <td>7699.000000</td>\n",
              "      <td>7913.000000</td>\n",
              "      <td>7988.000000</td>\n",
              "      <td>7988.000000</td>\n",
              "      <td>7988.000000</td>\n",
              "      <td>7988.000000</td>\n",
              "      <td>7988.000000</td>\n",
              "      <td>7988.000000</td>\n",
              "      <td>7988.000000</td>\n",
              "      <td>7988.000000</td>\n",
              "    </tr>\n",
              "    <tr>\n",
              "      <th>mean</th>\n",
              "      <td>31114.380696</td>\n",
              "      <td>4.008763</td>\n",
              "      <td>40.890898</td>\n",
              "      <td>2.378192</td>\n",
              "      <td>1028.221582</td>\n",
              "      <td>753.949474</td>\n",
              "      <td>594.095286</td>\n",
              "      <td>2438.785303</td>\n",
              "      <td>317.452929</td>\n",
              "      <td>100.593881</td>\n",
              "      <td>123.566224</td>\n",
              "      <td>0.030921</td>\n",
              "      <td>0.616935</td>\n",
              "      <td>1828.828117</td>\n",
              "      <td>2.047071</td>\n",
              "    </tr>\n",
              "    <tr>\n",
              "      <th>std</th>\n",
              "      <td>18222.504374</td>\n",
              "      <td>0.121232</td>\n",
              "      <td>10.297563</td>\n",
              "      <td>0.750483</td>\n",
              "      <td>514.824691</td>\n",
              "      <td>740.429594</td>\n",
              "      <td>657.696886</td>\n",
              "      <td>990.760396</td>\n",
              "      <td>211.237247</td>\n",
              "      <td>132.284864</td>\n",
              "      <td>152.106381</td>\n",
              "      <td>0.365907</td>\n",
              "      <td>0.205400</td>\n",
              "      <td>11573.723888</td>\n",
              "      <td>6.091004</td>\n",
              "    </tr>\n",
              "    <tr>\n",
              "      <th>min</th>\n",
              "      <td>7.000000</td>\n",
              "      <td>4.000000</td>\n",
              "      <td>9.000000</td>\n",
              "      <td>2.000000</td>\n",
              "      <td>0.000000</td>\n",
              "      <td>0.000000</td>\n",
              "      <td>0.000000</td>\n",
              "      <td>368.000000</td>\n",
              "      <td>1.000000</td>\n",
              "      <td>0.000000</td>\n",
              "      <td>0.000000</td>\n",
              "      <td>0.000000</td>\n",
              "      <td>0.000000</td>\n",
              "      <td>0.000000</td>\n",
              "      <td>0.000000</td>\n",
              "    </tr>\n",
              "    <tr>\n",
              "      <th>25%</th>\n",
              "      <td>15411.750000</td>\n",
              "      <td>4.000000</td>\n",
              "      <td>33.000000</td>\n",
              "      <td>2.000000</td>\n",
              "      <td>692.000000</td>\n",
              "      <td>0.000000</td>\n",
              "      <td>0.000000</td>\n",
              "      <td>1744.000000</td>\n",
              "      <td>130.000000</td>\n",
              "      <td>5.000000</td>\n",
              "      <td>5.000000</td>\n",
              "      <td>0.000000</td>\n",
              "      <td>0.450000</td>\n",
              "      <td>763.000000</td>\n",
              "      <td>0.000000</td>\n",
              "    </tr>\n",
              "    <tr>\n",
              "      <th>50%</th>\n",
              "      <td>31011.500000</td>\n",
              "      <td>4.000000</td>\n",
              "      <td>39.000000</td>\n",
              "      <td>2.000000</td>\n",
              "      <td>1012.000000</td>\n",
              "      <td>690.000000</td>\n",
              "      <td>462.000000</td>\n",
              "      <td>2293.500000</td>\n",
              "      <td>299.000000</td>\n",
              "      <td>46.000000</td>\n",
              "      <td>58.000000</td>\n",
              "      <td>0.000000</td>\n",
              "      <td>0.601520</td>\n",
              "      <td>1152.500000</td>\n",
              "      <td>0.000000</td>\n",
              "    </tr>\n",
              "    <tr>\n",
              "      <th>75%</th>\n",
              "      <td>46711.500000</td>\n",
              "      <td>4.000000</td>\n",
              "      <td>47.000000</td>\n",
              "      <td>3.000000</td>\n",
              "      <td>1386.000000</td>\n",
              "      <td>1280.000000</td>\n",
              "      <td>1095.000000</td>\n",
              "      <td>2930.000000</td>\n",
              "      <td>497.000000</td>\n",
              "      <td>148.000000</td>\n",
              "      <td>194.000000</td>\n",
              "      <td>0.000000</td>\n",
              "      <td>0.767436</td>\n",
              "      <td>1596.000000</td>\n",
              "      <td>0.000000</td>\n",
              "    </tr>\n",
              "    <tr>\n",
              "      <th>max</th>\n",
              "      <td>62887.000000</td>\n",
              "      <td>6.000000</td>\n",
              "      <td>92.000000</td>\n",
              "      <td>10.000000</td>\n",
              "      <td>4000.000000</td>\n",
              "      <td>7100.000000</td>\n",
              "      <td>5460.000000</td>\n",
              "      <td>8016.000000</td>\n",
              "      <td>731.000000</td>\n",
              "      <td>728.000000</td>\n",
              "      <td>728.000000</td>\n",
              "      <td>22.000000</td>\n",
              "      <td>1.500000</td>\n",
              "      <td>985572.000000</td>\n",
              "      <td>92.000000</td>\n",
              "    </tr>\n",
              "  </tbody>\n",
              "</table>\n",
              "</div>\n",
              "      <button class=\"colab-df-convert\" onclick=\"convertToInteractive('df-f5b1ed19-940b-4b81-a13c-8a53b040ed6a')\"\n",
              "              title=\"Convert this dataframe to an interactive table.\"\n",
              "              style=\"display:none;\">\n",
              "        \n",
              "  <svg xmlns=\"http://www.w3.org/2000/svg\" height=\"24px\"viewBox=\"0 0 24 24\"\n",
              "       width=\"24px\">\n",
              "    <path d=\"M0 0h24v24H0V0z\" fill=\"none\"/>\n",
              "    <path d=\"M18.56 5.44l.94 2.06.94-2.06 2.06-.94-2.06-.94-.94-2.06-.94 2.06-2.06.94zm-11 1L8.5 8.5l.94-2.06 2.06-.94-2.06-.94L8.5 2.5l-.94 2.06-2.06.94zm10 10l.94 2.06.94-2.06 2.06-.94-2.06-.94-.94-2.06-.94 2.06-2.06.94z\"/><path d=\"M17.41 7.96l-1.37-1.37c-.4-.4-.92-.59-1.43-.59-.52 0-1.04.2-1.43.59L10.3 9.45l-7.72 7.72c-.78.78-.78 2.05 0 2.83L4 21.41c.39.39.9.59 1.41.59.51 0 1.02-.2 1.41-.59l7.78-7.78 2.81-2.81c.8-.78.8-2.07 0-2.86zM5.41 20L4 18.59l7.72-7.72 1.47 1.35L5.41 20z\"/>\n",
              "  </svg>\n",
              "      </button>\n",
              "      \n",
              "  <style>\n",
              "    .colab-df-container {\n",
              "      display:flex;\n",
              "      flex-wrap:wrap;\n",
              "      gap: 12px;\n",
              "    }\n",
              "\n",
              "    .colab-df-convert {\n",
              "      background-color: #E8F0FE;\n",
              "      border: none;\n",
              "      border-radius: 50%;\n",
              "      cursor: pointer;\n",
              "      display: none;\n",
              "      fill: #1967D2;\n",
              "      height: 32px;\n",
              "      padding: 0 0 0 0;\n",
              "      width: 32px;\n",
              "    }\n",
              "\n",
              "    .colab-df-convert:hover {\n",
              "      background-color: #E2EBFA;\n",
              "      box-shadow: 0px 1px 2px rgba(60, 64, 67, 0.3), 0px 1px 3px 1px rgba(60, 64, 67, 0.15);\n",
              "      fill: #174EA6;\n",
              "    }\n",
              "\n",
              "    [theme=dark] .colab-df-convert {\n",
              "      background-color: #3B4455;\n",
              "      fill: #D2E3FC;\n",
              "    }\n",
              "\n",
              "    [theme=dark] .colab-df-convert:hover {\n",
              "      background-color: #434B5C;\n",
              "      box-shadow: 0px 1px 3px 1px rgba(0, 0, 0, 0.15);\n",
              "      filter: drop-shadow(0px 1px 2px rgba(0, 0, 0, 0.3));\n",
              "      fill: #FFFFFF;\n",
              "    }\n",
              "  </style>\n",
              "\n",
              "      <script>\n",
              "        const buttonEl =\n",
              "          document.querySelector('#df-f5b1ed19-940b-4b81-a13c-8a53b040ed6a button.colab-df-convert');\n",
              "        buttonEl.style.display =\n",
              "          google.colab.kernel.accessAllowed ? 'block' : 'none';\n",
              "\n",
              "        async function convertToInteractive(key) {\n",
              "          const element = document.querySelector('#df-f5b1ed19-940b-4b81-a13c-8a53b040ed6a');\n",
              "          const dataTable =\n",
              "            await google.colab.kernel.invokeFunction('convertToInteractive',\n",
              "                                                     [key], {});\n",
              "          if (!dataTable) return;\n",
              "\n",
              "          const docLinkHtml = 'Like what you see? Visit the ' +\n",
              "            '<a target=\"_blank\" href=https://colab.research.google.com/notebooks/data_table.ipynb>data table notebook</a>'\n",
              "            + ' to learn more about interactive tables.';\n",
              "          element.innerHTML = '';\n",
              "          dataTable['output_type'] = 'display_data';\n",
              "          await google.colab.output.renderOutput(dataTable, element);\n",
              "          const docLink = document.createElement('div');\n",
              "          docLink.innerHTML = docLinkHtml;\n",
              "          element.appendChild(docLink);\n",
              "        }\n",
              "      </script>\n",
              "    </div>\n",
              "  </div>\n",
              "  "
            ]
          },
          "metadata": {},
          "execution_count": 52
        }
      ]
    },
    {
      "cell_type": "code",
      "source": [
        "data.isnull().sum()"
      ],
      "metadata": {
        "colab": {
          "base_uri": "https://localhost:8080/"
        },
        "id": "xAFr-0vksQ3U",
        "outputId": "6c56d95f-6bc0-4685-f39a-3d3159ec425f"
      },
      "execution_count": null,
      "outputs": [
        {
          "output_type": "execute_result",
          "data": {
            "text/plain": [
              "MEMBER_NO              0\n",
              "FFP_DATE               0\n",
              "FIRST_FLIGHT_DATE      0\n",
              "GENDER                 0\n",
              "FFP_TIER               0\n",
              "WORK_CITY            303\n",
              "WORK_PROVINCE        464\n",
              "WORK_COUNTRY           6\n",
              "AGE                   78\n",
              "LOAD_TIME              0\n",
              "FLIGHT_COUNT           0\n",
              "BP_SUM                 0\n",
              "SUM_YR_1             289\n",
              "SUM_YR_2              75\n",
              "SEG_KM_SUM             0\n",
              "LAST_FLIGHT_DATE       0\n",
              "LAST_TO_END            0\n",
              "AVG_INTERVAL           0\n",
              "MAX_INTERVAL           0\n",
              "EXCHANGE_COUNT         0\n",
              "avg_discount           0\n",
              "Points_Sum             0\n",
              "Point_NotFlight        0\n",
              "dtype: int64"
            ]
          },
          "metadata": {},
          "execution_count": 53
        }
      ]
    },
    {
      "cell_type": "code",
      "source": [
        "data.isnull()"
      ],
      "metadata": {
        "colab": {
          "base_uri": "https://localhost:8080/",
          "height": 488
        },
        "id": "d4TxpTdbs36-",
        "outputId": "ed2b8978-2a91-46e8-b714-dc8c307b84d1"
      },
      "execution_count": null,
      "outputs": [
        {
          "output_type": "execute_result",
          "data": {
            "text/plain": [
              "      MEMBER_NO  FFP_DATE  FIRST_FLIGHT_DATE  GENDER  FFP_TIER  WORK_CITY  \\\n",
              "0         False     False              False   False     False      False   \n",
              "1         False     False              False   False     False      False   \n",
              "2         False     False              False   False     False      False   \n",
              "3         False     False              False   False     False      False   \n",
              "4         False     False              False   False     False      False   \n",
              "...         ...       ...                ...     ...       ...        ...   \n",
              "7983      False     False              False   False     False      False   \n",
              "7984      False     False              False   False     False      False   \n",
              "7985      False     False              False   False     False      False   \n",
              "7986      False     False              False   False     False      False   \n",
              "7987      False     False              False   False     False      False   \n",
              "\n",
              "      WORK_PROVINCE  WORK_COUNTRY    AGE  LOAD_TIME  ...  SUM_YR_2  \\\n",
              "0             False         False  False      False  ...     False   \n",
              "1             False         False  False      False  ...     False   \n",
              "2             False         False  False      False  ...     False   \n",
              "3             False         False  False      False  ...     False   \n",
              "4             False         False  False      False  ...     False   \n",
              "...             ...           ...    ...        ...  ...       ...   \n",
              "7983          False         False  False      False  ...     False   \n",
              "7984          False         False  False      False  ...     False   \n",
              "7985          False         False  False      False  ...     False   \n",
              "7986          False         False  False      False  ...     False   \n",
              "7987          False         False  False      False  ...     False   \n",
              "\n",
              "      SEG_KM_SUM  LAST_FLIGHT_DATE  LAST_TO_END  AVG_INTERVAL  MAX_INTERVAL  \\\n",
              "0          False             False        False         False         False   \n",
              "1          False             False        False         False         False   \n",
              "2          False             False        False         False         False   \n",
              "3          False             False        False         False         False   \n",
              "4          False             False        False         False         False   \n",
              "...          ...               ...          ...           ...           ...   \n",
              "7983       False             False        False         False         False   \n",
              "7984       False             False        False         False         False   \n",
              "7985       False             False        False         False         False   \n",
              "7986       False             False        False         False         False   \n",
              "7987       False             False        False         False         False   \n",
              "\n",
              "      EXCHANGE_COUNT  avg_discount  Points_Sum  Point_NotFlight  \n",
              "0              False         False       False            False  \n",
              "1              False         False       False            False  \n",
              "2              False         False       False            False  \n",
              "3              False         False       False            False  \n",
              "4              False         False       False            False  \n",
              "...              ...           ...         ...              ...  \n",
              "7983           False         False       False            False  \n",
              "7984           False         False       False            False  \n",
              "7985           False         False       False            False  \n",
              "7986           False         False       False            False  \n",
              "7987           False         False       False            False  \n",
              "\n",
              "[7988 rows x 23 columns]"
            ],
            "text/html": [
              "\n",
              "  <div id=\"df-625a6bdb-aa74-48bf-9442-2baf273b9ebb\">\n",
              "    <div class=\"colab-df-container\">\n",
              "      <div>\n",
              "<style scoped>\n",
              "    .dataframe tbody tr th:only-of-type {\n",
              "        vertical-align: middle;\n",
              "    }\n",
              "\n",
              "    .dataframe tbody tr th {\n",
              "        vertical-align: top;\n",
              "    }\n",
              "\n",
              "    .dataframe thead th {\n",
              "        text-align: right;\n",
              "    }\n",
              "</style>\n",
              "<table border=\"1\" class=\"dataframe\">\n",
              "  <thead>\n",
              "    <tr style=\"text-align: right;\">\n",
              "      <th></th>\n",
              "      <th>MEMBER_NO</th>\n",
              "      <th>FFP_DATE</th>\n",
              "      <th>FIRST_FLIGHT_DATE</th>\n",
              "      <th>GENDER</th>\n",
              "      <th>FFP_TIER</th>\n",
              "      <th>WORK_CITY</th>\n",
              "      <th>WORK_PROVINCE</th>\n",
              "      <th>WORK_COUNTRY</th>\n",
              "      <th>AGE</th>\n",
              "      <th>LOAD_TIME</th>\n",
              "      <th>...</th>\n",
              "      <th>SUM_YR_2</th>\n",
              "      <th>SEG_KM_SUM</th>\n",
              "      <th>LAST_FLIGHT_DATE</th>\n",
              "      <th>LAST_TO_END</th>\n",
              "      <th>AVG_INTERVAL</th>\n",
              "      <th>MAX_INTERVAL</th>\n",
              "      <th>EXCHANGE_COUNT</th>\n",
              "      <th>avg_discount</th>\n",
              "      <th>Points_Sum</th>\n",
              "      <th>Point_NotFlight</th>\n",
              "    </tr>\n",
              "  </thead>\n",
              "  <tbody>\n",
              "    <tr>\n",
              "      <th>0</th>\n",
              "      <td>False</td>\n",
              "      <td>False</td>\n",
              "      <td>False</td>\n",
              "      <td>False</td>\n",
              "      <td>False</td>\n",
              "      <td>False</td>\n",
              "      <td>False</td>\n",
              "      <td>False</td>\n",
              "      <td>False</td>\n",
              "      <td>False</td>\n",
              "      <td>...</td>\n",
              "      <td>False</td>\n",
              "      <td>False</td>\n",
              "      <td>False</td>\n",
              "      <td>False</td>\n",
              "      <td>False</td>\n",
              "      <td>False</td>\n",
              "      <td>False</td>\n",
              "      <td>False</td>\n",
              "      <td>False</td>\n",
              "      <td>False</td>\n",
              "    </tr>\n",
              "    <tr>\n",
              "      <th>1</th>\n",
              "      <td>False</td>\n",
              "      <td>False</td>\n",
              "      <td>False</td>\n",
              "      <td>False</td>\n",
              "      <td>False</td>\n",
              "      <td>False</td>\n",
              "      <td>False</td>\n",
              "      <td>False</td>\n",
              "      <td>False</td>\n",
              "      <td>False</td>\n",
              "      <td>...</td>\n",
              "      <td>False</td>\n",
              "      <td>False</td>\n",
              "      <td>False</td>\n",
              "      <td>False</td>\n",
              "      <td>False</td>\n",
              "      <td>False</td>\n",
              "      <td>False</td>\n",
              "      <td>False</td>\n",
              "      <td>False</td>\n",
              "      <td>False</td>\n",
              "    </tr>\n",
              "    <tr>\n",
              "      <th>2</th>\n",
              "      <td>False</td>\n",
              "      <td>False</td>\n",
              "      <td>False</td>\n",
              "      <td>False</td>\n",
              "      <td>False</td>\n",
              "      <td>False</td>\n",
              "      <td>False</td>\n",
              "      <td>False</td>\n",
              "      <td>False</td>\n",
              "      <td>False</td>\n",
              "      <td>...</td>\n",
              "      <td>False</td>\n",
              "      <td>False</td>\n",
              "      <td>False</td>\n",
              "      <td>False</td>\n",
              "      <td>False</td>\n",
              "      <td>False</td>\n",
              "      <td>False</td>\n",
              "      <td>False</td>\n",
              "      <td>False</td>\n",
              "      <td>False</td>\n",
              "    </tr>\n",
              "    <tr>\n",
              "      <th>3</th>\n",
              "      <td>False</td>\n",
              "      <td>False</td>\n",
              "      <td>False</td>\n",
              "      <td>False</td>\n",
              "      <td>False</td>\n",
              "      <td>False</td>\n",
              "      <td>False</td>\n",
              "      <td>False</td>\n",
              "      <td>False</td>\n",
              "      <td>False</td>\n",
              "      <td>...</td>\n",
              "      <td>False</td>\n",
              "      <td>False</td>\n",
              "      <td>False</td>\n",
              "      <td>False</td>\n",
              "      <td>False</td>\n",
              "      <td>False</td>\n",
              "      <td>False</td>\n",
              "      <td>False</td>\n",
              "      <td>False</td>\n",
              "      <td>False</td>\n",
              "    </tr>\n",
              "    <tr>\n",
              "      <th>4</th>\n",
              "      <td>False</td>\n",
              "      <td>False</td>\n",
              "      <td>False</td>\n",
              "      <td>False</td>\n",
              "      <td>False</td>\n",
              "      <td>False</td>\n",
              "      <td>False</td>\n",
              "      <td>False</td>\n",
              "      <td>False</td>\n",
              "      <td>False</td>\n",
              "      <td>...</td>\n",
              "      <td>False</td>\n",
              "      <td>False</td>\n",
              "      <td>False</td>\n",
              "      <td>False</td>\n",
              "      <td>False</td>\n",
              "      <td>False</td>\n",
              "      <td>False</td>\n",
              "      <td>False</td>\n",
              "      <td>False</td>\n",
              "      <td>False</td>\n",
              "    </tr>\n",
              "    <tr>\n",
              "      <th>...</th>\n",
              "      <td>...</td>\n",
              "      <td>...</td>\n",
              "      <td>...</td>\n",
              "      <td>...</td>\n",
              "      <td>...</td>\n",
              "      <td>...</td>\n",
              "      <td>...</td>\n",
              "      <td>...</td>\n",
              "      <td>...</td>\n",
              "      <td>...</td>\n",
              "      <td>...</td>\n",
              "      <td>...</td>\n",
              "      <td>...</td>\n",
              "      <td>...</td>\n",
              "      <td>...</td>\n",
              "      <td>...</td>\n",
              "      <td>...</td>\n",
              "      <td>...</td>\n",
              "      <td>...</td>\n",
              "      <td>...</td>\n",
              "      <td>...</td>\n",
              "    </tr>\n",
              "    <tr>\n",
              "      <th>7983</th>\n",
              "      <td>False</td>\n",
              "      <td>False</td>\n",
              "      <td>False</td>\n",
              "      <td>False</td>\n",
              "      <td>False</td>\n",
              "      <td>False</td>\n",
              "      <td>False</td>\n",
              "      <td>False</td>\n",
              "      <td>False</td>\n",
              "      <td>False</td>\n",
              "      <td>...</td>\n",
              "      <td>False</td>\n",
              "      <td>False</td>\n",
              "      <td>False</td>\n",
              "      <td>False</td>\n",
              "      <td>False</td>\n",
              "      <td>False</td>\n",
              "      <td>False</td>\n",
              "      <td>False</td>\n",
              "      <td>False</td>\n",
              "      <td>False</td>\n",
              "    </tr>\n",
              "    <tr>\n",
              "      <th>7984</th>\n",
              "      <td>False</td>\n",
              "      <td>False</td>\n",
              "      <td>False</td>\n",
              "      <td>False</td>\n",
              "      <td>False</td>\n",
              "      <td>False</td>\n",
              "      <td>False</td>\n",
              "      <td>False</td>\n",
              "      <td>False</td>\n",
              "      <td>False</td>\n",
              "      <td>...</td>\n",
              "      <td>False</td>\n",
              "      <td>False</td>\n",
              "      <td>False</td>\n",
              "      <td>False</td>\n",
              "      <td>False</td>\n",
              "      <td>False</td>\n",
              "      <td>False</td>\n",
              "      <td>False</td>\n",
              "      <td>False</td>\n",
              "      <td>False</td>\n",
              "    </tr>\n",
              "    <tr>\n",
              "      <th>7985</th>\n",
              "      <td>False</td>\n",
              "      <td>False</td>\n",
              "      <td>False</td>\n",
              "      <td>False</td>\n",
              "      <td>False</td>\n",
              "      <td>False</td>\n",
              "      <td>False</td>\n",
              "      <td>False</td>\n",
              "      <td>False</td>\n",
              "      <td>False</td>\n",
              "      <td>...</td>\n",
              "      <td>False</td>\n",
              "      <td>False</td>\n",
              "      <td>False</td>\n",
              "      <td>False</td>\n",
              "      <td>False</td>\n",
              "      <td>False</td>\n",
              "      <td>False</td>\n",
              "      <td>False</td>\n",
              "      <td>False</td>\n",
              "      <td>False</td>\n",
              "    </tr>\n",
              "    <tr>\n",
              "      <th>7986</th>\n",
              "      <td>False</td>\n",
              "      <td>False</td>\n",
              "      <td>False</td>\n",
              "      <td>False</td>\n",
              "      <td>False</td>\n",
              "      <td>False</td>\n",
              "      <td>False</td>\n",
              "      <td>False</td>\n",
              "      <td>False</td>\n",
              "      <td>False</td>\n",
              "      <td>...</td>\n",
              "      <td>False</td>\n",
              "      <td>False</td>\n",
              "      <td>False</td>\n",
              "      <td>False</td>\n",
              "      <td>False</td>\n",
              "      <td>False</td>\n",
              "      <td>False</td>\n",
              "      <td>False</td>\n",
              "      <td>False</td>\n",
              "      <td>False</td>\n",
              "    </tr>\n",
              "    <tr>\n",
              "      <th>7987</th>\n",
              "      <td>False</td>\n",
              "      <td>False</td>\n",
              "      <td>False</td>\n",
              "      <td>False</td>\n",
              "      <td>False</td>\n",
              "      <td>False</td>\n",
              "      <td>False</td>\n",
              "      <td>False</td>\n",
              "      <td>False</td>\n",
              "      <td>False</td>\n",
              "      <td>...</td>\n",
              "      <td>False</td>\n",
              "      <td>False</td>\n",
              "      <td>False</td>\n",
              "      <td>False</td>\n",
              "      <td>False</td>\n",
              "      <td>False</td>\n",
              "      <td>False</td>\n",
              "      <td>False</td>\n",
              "      <td>False</td>\n",
              "      <td>False</td>\n",
              "    </tr>\n",
              "  </tbody>\n",
              "</table>\n",
              "<p>7988 rows × 23 columns</p>\n",
              "</div>\n",
              "      <button class=\"colab-df-convert\" onclick=\"convertToInteractive('df-625a6bdb-aa74-48bf-9442-2baf273b9ebb')\"\n",
              "              title=\"Convert this dataframe to an interactive table.\"\n",
              "              style=\"display:none;\">\n",
              "        \n",
              "  <svg xmlns=\"http://www.w3.org/2000/svg\" height=\"24px\"viewBox=\"0 0 24 24\"\n",
              "       width=\"24px\">\n",
              "    <path d=\"M0 0h24v24H0V0z\" fill=\"none\"/>\n",
              "    <path d=\"M18.56 5.44l.94 2.06.94-2.06 2.06-.94-2.06-.94-.94-2.06-.94 2.06-2.06.94zm-11 1L8.5 8.5l.94-2.06 2.06-.94-2.06-.94L8.5 2.5l-.94 2.06-2.06.94zm10 10l.94 2.06.94-2.06 2.06-.94-2.06-.94-.94-2.06-.94 2.06-2.06.94z\"/><path d=\"M17.41 7.96l-1.37-1.37c-.4-.4-.92-.59-1.43-.59-.52 0-1.04.2-1.43.59L10.3 9.45l-7.72 7.72c-.78.78-.78 2.05 0 2.83L4 21.41c.39.39.9.59 1.41.59.51 0 1.02-.2 1.41-.59l7.78-7.78 2.81-2.81c.8-.78.8-2.07 0-2.86zM5.41 20L4 18.59l7.72-7.72 1.47 1.35L5.41 20z\"/>\n",
              "  </svg>\n",
              "      </button>\n",
              "      \n",
              "  <style>\n",
              "    .colab-df-container {\n",
              "      display:flex;\n",
              "      flex-wrap:wrap;\n",
              "      gap: 12px;\n",
              "    }\n",
              "\n",
              "    .colab-df-convert {\n",
              "      background-color: #E8F0FE;\n",
              "      border: none;\n",
              "      border-radius: 50%;\n",
              "      cursor: pointer;\n",
              "      display: none;\n",
              "      fill: #1967D2;\n",
              "      height: 32px;\n",
              "      padding: 0 0 0 0;\n",
              "      width: 32px;\n",
              "    }\n",
              "\n",
              "    .colab-df-convert:hover {\n",
              "      background-color: #E2EBFA;\n",
              "      box-shadow: 0px 1px 2px rgba(60, 64, 67, 0.3), 0px 1px 3px 1px rgba(60, 64, 67, 0.15);\n",
              "      fill: #174EA6;\n",
              "    }\n",
              "\n",
              "    [theme=dark] .colab-df-convert {\n",
              "      background-color: #3B4455;\n",
              "      fill: #D2E3FC;\n",
              "    }\n",
              "\n",
              "    [theme=dark] .colab-df-convert:hover {\n",
              "      background-color: #434B5C;\n",
              "      box-shadow: 0px 1px 3px 1px rgba(0, 0, 0, 0.15);\n",
              "      filter: drop-shadow(0px 1px 2px rgba(0, 0, 0, 0.3));\n",
              "      fill: #FFFFFF;\n",
              "    }\n",
              "  </style>\n",
              "\n",
              "      <script>\n",
              "        const buttonEl =\n",
              "          document.querySelector('#df-625a6bdb-aa74-48bf-9442-2baf273b9ebb button.colab-df-convert');\n",
              "        buttonEl.style.display =\n",
              "          google.colab.kernel.accessAllowed ? 'block' : 'none';\n",
              "\n",
              "        async function convertToInteractive(key) {\n",
              "          const element = document.querySelector('#df-625a6bdb-aa74-48bf-9442-2baf273b9ebb');\n",
              "          const dataTable =\n",
              "            await google.colab.kernel.invokeFunction('convertToInteractive',\n",
              "                                                     [key], {});\n",
              "          if (!dataTable) return;\n",
              "\n",
              "          const docLinkHtml = 'Like what you see? Visit the ' +\n",
              "            '<a target=\"_blank\" href=https://colab.research.google.com/notebooks/data_table.ipynb>data table notebook</a>'\n",
              "            + ' to learn more about interactive tables.';\n",
              "          element.innerHTML = '';\n",
              "          dataTable['output_type'] = 'display_data';\n",
              "          await google.colab.output.renderOutput(dataTable, element);\n",
              "          const docLink = document.createElement('div');\n",
              "          docLink.innerHTML = docLinkHtml;\n",
              "          element.appendChild(docLink);\n",
              "        }\n",
              "      </script>\n",
              "    </div>\n",
              "  </div>\n",
              "  "
            ]
          },
          "metadata": {},
          "execution_count": 54
        }
      ]
    },
    {
      "cell_type": "code",
      "source": [
        "data['WORK_CITY'].notnull()"
      ],
      "metadata": {
        "colab": {
          "base_uri": "https://localhost:8080/"
        },
        "id": "tklQOE4Kse84",
        "outputId": "2be10e17-c9a0-487b-bcea-328fbf3f212e"
      },
      "execution_count": null,
      "outputs": [
        {
          "output_type": "execute_result",
          "data": {
            "text/plain": [
              "0       True\n",
              "1       True\n",
              "2       True\n",
              "3       True\n",
              "4       True\n",
              "        ... \n",
              "7983    True\n",
              "7984    True\n",
              "7985    True\n",
              "7986    True\n",
              "7987    True\n",
              "Name: WORK_CITY, Length: 7988, dtype: bool"
            ]
          },
          "metadata": {},
          "execution_count": 55
        }
      ]
    },
    {
      "cell_type": "code",
      "source": [
        "data= data[data['WORK_CITY'].notnull() & data['WORK_PROVINCE'].notnull()]"
      ],
      "metadata": {
        "id": "DQaUAsk4ssm4"
      },
      "execution_count": null,
      "outputs": []
    },
    {
      "cell_type": "code",
      "source": [
        "data.shape"
      ],
      "metadata": {
        "colab": {
          "base_uri": "https://localhost:8080/"
        },
        "id": "p8mXxfRztSEG",
        "outputId": "31a2152c-7304-4fcf-d230-06fb11519e8d"
      },
      "execution_count": null,
      "outputs": [
        {
          "output_type": "execute_result",
          "data": {
            "text/plain": [
              "(7476, 23)"
            ]
          },
          "metadata": {},
          "execution_count": 57
        }
      ]
    },
    {
      "cell_type": "code",
      "source": [
        "data.isnull().sum()"
      ],
      "metadata": {
        "colab": {
          "base_uri": "https://localhost:8080/"
        },
        "id": "L6rAN1DatT9x",
        "outputId": "ad795b9c-ce1f-49c3-a40d-7c5a78dbfab8"
      },
      "execution_count": null,
      "outputs": [
        {
          "output_type": "execute_result",
          "data": {
            "text/plain": [
              "MEMBER_NO              0\n",
              "FFP_DATE               0\n",
              "FIRST_FLIGHT_DATE      0\n",
              "GENDER                 0\n",
              "FFP_TIER               0\n",
              "WORK_CITY              0\n",
              "WORK_PROVINCE          0\n",
              "WORK_COUNTRY           0\n",
              "AGE                   55\n",
              "LOAD_TIME              0\n",
              "FLIGHT_COUNT           0\n",
              "BP_SUM                 0\n",
              "SUM_YR_1             279\n",
              "SUM_YR_2              74\n",
              "SEG_KM_SUM             0\n",
              "LAST_FLIGHT_DATE       0\n",
              "LAST_TO_END            0\n",
              "AVG_INTERVAL           0\n",
              "MAX_INTERVAL           0\n",
              "EXCHANGE_COUNT         0\n",
              "avg_discount           0\n",
              "Points_Sum             0\n",
              "Point_NotFlight        0\n",
              "dtype: int64"
            ]
          },
          "metadata": {},
          "execution_count": 58
        }
      ]
    },
    {
      "cell_type": "code",
      "source": [
        "data.notnull().sum()"
      ],
      "metadata": {
        "colab": {
          "base_uri": "https://localhost:8080/"
        },
        "id": "OTr5WH6ftXNP",
        "outputId": "cad55b40-2af6-46dd-b3b1-1b8a03d8c156"
      },
      "execution_count": null,
      "outputs": [
        {
          "output_type": "execute_result",
          "data": {
            "text/plain": [
              "MEMBER_NO            7476\n",
              "FFP_DATE             7476\n",
              "FIRST_FLIGHT_DATE    7476\n",
              "GENDER               7476\n",
              "FFP_TIER             7476\n",
              "WORK_CITY            7476\n",
              "WORK_PROVINCE        7476\n",
              "WORK_COUNTRY         7476\n",
              "AGE                  7421\n",
              "LOAD_TIME            7476\n",
              "FLIGHT_COUNT         7476\n",
              "BP_SUM               7476\n",
              "SUM_YR_1             7197\n",
              "SUM_YR_2             7402\n",
              "SEG_KM_SUM           7476\n",
              "LAST_FLIGHT_DATE     7476\n",
              "LAST_TO_END          7476\n",
              "AVG_INTERVAL         7476\n",
              "MAX_INTERVAL         7476\n",
              "EXCHANGE_COUNT       7476\n",
              "avg_discount         7476\n",
              "Points_Sum           7476\n",
              "Point_NotFlight      7476\n",
              "dtype: int64"
            ]
          },
          "metadata": {},
          "execution_count": 59
        }
      ]
    },
    {
      "cell_type": "code",
      "source": [
        "data['AGE']= data['AGE'].fillna(data['AGE'].median())"
      ],
      "metadata": {
        "colab": {
          "base_uri": "https://localhost:8080/"
        },
        "id": "VDnJZtLHtgBf",
        "outputId": "f5816c0a-13e9-4305-cf70-8c20d86d1fd1"
      },
      "execution_count": null,
      "outputs": [
        {
          "output_type": "stream",
          "name": "stderr",
          "text": [
            "/usr/local/lib/python3.7/dist-packages/ipykernel_launcher.py:1: SettingWithCopyWarning: \n",
            "A value is trying to be set on a copy of a slice from a DataFrame.\n",
            "Try using .loc[row_indexer,col_indexer] = value instead\n",
            "\n",
            "See the caveats in the documentation: https://pandas.pydata.org/pandas-docs/stable/user_guide/indexing.html#returning-a-view-versus-a-copy\n",
            "  \"\"\"Entry point for launching an IPython kernel.\n"
          ]
        }
      ]
    },
    {
      "cell_type": "code",
      "source": [
        "data.isnull().sum()"
      ],
      "metadata": {
        "colab": {
          "base_uri": "https://localhost:8080/"
        },
        "id": "y0UGxDEst7Bs",
        "outputId": "cc8e40a2-5ed1-4f7d-c26d-891958bea1c7"
      },
      "execution_count": null,
      "outputs": [
        {
          "output_type": "execute_result",
          "data": {
            "text/plain": [
              "MEMBER_NO              0\n",
              "FFP_DATE               0\n",
              "FIRST_FLIGHT_DATE      0\n",
              "GENDER                 0\n",
              "FFP_TIER               0\n",
              "WORK_CITY              0\n",
              "WORK_PROVINCE          0\n",
              "WORK_COUNTRY           0\n",
              "AGE                    0\n",
              "LOAD_TIME              0\n",
              "FLIGHT_COUNT           0\n",
              "BP_SUM                 0\n",
              "SUM_YR_1             279\n",
              "SUM_YR_2              74\n",
              "SEG_KM_SUM             0\n",
              "LAST_FLIGHT_DATE       0\n",
              "LAST_TO_END            0\n",
              "AVG_INTERVAL           0\n",
              "MAX_INTERVAL           0\n",
              "EXCHANGE_COUNT         0\n",
              "avg_discount           0\n",
              "Points_Sum             0\n",
              "Point_NotFlight        0\n",
              "dtype: int64"
            ]
          },
          "metadata": {},
          "execution_count": 61
        }
      ]
    },
    {
      "cell_type": "code",
      "source": [
        "#interpolate\n",
        "data['SUM_YR_1'].interpolate(method = 'linear', inplace= True)"
      ],
      "metadata": {
        "colab": {
          "base_uri": "https://localhost:8080/"
        },
        "id": "Gp1VH7-ot-RP",
        "outputId": "2d2c6a87-e57a-4bd8-9e21-96f75e7bf0db"
      },
      "execution_count": null,
      "outputs": [
        {
          "output_type": "stream",
          "name": "stderr",
          "text": [
            "/usr/local/lib/python3.7/dist-packages/pandas/core/generic.py:6915: SettingWithCopyWarning: \n",
            "A value is trying to be set on a copy of a slice from a DataFrame\n",
            "\n",
            "See the caveats in the documentation: https://pandas.pydata.org/pandas-docs/stable/user_guide/indexing.html#returning-a-view-versus-a-copy\n",
            "  return self._update_inplace(result)\n"
          ]
        }
      ]
    },
    {
      "cell_type": "code",
      "source": [
        "data[data['SUM_YR_1'].isnull()]"
      ],
      "metadata": {
        "colab": {
          "base_uri": "https://localhost:8080/",
          "height": 143
        },
        "id": "ELFBmiZ2ujwg",
        "outputId": "9933965d-7bcc-44b7-9c6a-9575cced76ad"
      },
      "execution_count": null,
      "outputs": [
        {
          "output_type": "execute_result",
          "data": {
            "text/plain": [
              "Empty DataFrame\n",
              "Columns: [MEMBER_NO, FFP_DATE, FIRST_FLIGHT_DATE, GENDER, FFP_TIER, WORK_CITY, WORK_PROVINCE, WORK_COUNTRY, AGE, LOAD_TIME, FLIGHT_COUNT, BP_SUM, SUM_YR_1, SUM_YR_2, SEG_KM_SUM, LAST_FLIGHT_DATE, LAST_TO_END, AVG_INTERVAL, MAX_INTERVAL, EXCHANGE_COUNT, avg_discount, Points_Sum, Point_NotFlight]\n",
              "Index: []\n",
              "\n",
              "[0 rows x 23 columns]"
            ],
            "text/html": [
              "\n",
              "  <div id=\"df-83fdea9b-a415-4d40-8d9e-5ac7dbf93d12\">\n",
              "    <div class=\"colab-df-container\">\n",
              "      <div>\n",
              "<style scoped>\n",
              "    .dataframe tbody tr th:only-of-type {\n",
              "        vertical-align: middle;\n",
              "    }\n",
              "\n",
              "    .dataframe tbody tr th {\n",
              "        vertical-align: top;\n",
              "    }\n",
              "\n",
              "    .dataframe thead th {\n",
              "        text-align: right;\n",
              "    }\n",
              "</style>\n",
              "<table border=\"1\" class=\"dataframe\">\n",
              "  <thead>\n",
              "    <tr style=\"text-align: right;\">\n",
              "      <th></th>\n",
              "      <th>MEMBER_NO</th>\n",
              "      <th>FFP_DATE</th>\n",
              "      <th>FIRST_FLIGHT_DATE</th>\n",
              "      <th>GENDER</th>\n",
              "      <th>FFP_TIER</th>\n",
              "      <th>WORK_CITY</th>\n",
              "      <th>WORK_PROVINCE</th>\n",
              "      <th>WORK_COUNTRY</th>\n",
              "      <th>AGE</th>\n",
              "      <th>LOAD_TIME</th>\n",
              "      <th>...</th>\n",
              "      <th>SUM_YR_2</th>\n",
              "      <th>SEG_KM_SUM</th>\n",
              "      <th>LAST_FLIGHT_DATE</th>\n",
              "      <th>LAST_TO_END</th>\n",
              "      <th>AVG_INTERVAL</th>\n",
              "      <th>MAX_INTERVAL</th>\n",
              "      <th>EXCHANGE_COUNT</th>\n",
              "      <th>avg_discount</th>\n",
              "      <th>Points_Sum</th>\n",
              "      <th>Point_NotFlight</th>\n",
              "    </tr>\n",
              "  </thead>\n",
              "  <tbody>\n",
              "  </tbody>\n",
              "</table>\n",
              "<p>0 rows × 23 columns</p>\n",
              "</div>\n",
              "      <button class=\"colab-df-convert\" onclick=\"convertToInteractive('df-83fdea9b-a415-4d40-8d9e-5ac7dbf93d12')\"\n",
              "              title=\"Convert this dataframe to an interactive table.\"\n",
              "              style=\"display:none;\">\n",
              "        \n",
              "  <svg xmlns=\"http://www.w3.org/2000/svg\" height=\"24px\"viewBox=\"0 0 24 24\"\n",
              "       width=\"24px\">\n",
              "    <path d=\"M0 0h24v24H0V0z\" fill=\"none\"/>\n",
              "    <path d=\"M18.56 5.44l.94 2.06.94-2.06 2.06-.94-2.06-.94-.94-2.06-.94 2.06-2.06.94zm-11 1L8.5 8.5l.94-2.06 2.06-.94-2.06-.94L8.5 2.5l-.94 2.06-2.06.94zm10 10l.94 2.06.94-2.06 2.06-.94-2.06-.94-.94-2.06-.94 2.06-2.06.94z\"/><path d=\"M17.41 7.96l-1.37-1.37c-.4-.4-.92-.59-1.43-.59-.52 0-1.04.2-1.43.59L10.3 9.45l-7.72 7.72c-.78.78-.78 2.05 0 2.83L4 21.41c.39.39.9.59 1.41.59.51 0 1.02-.2 1.41-.59l7.78-7.78 2.81-2.81c.8-.78.8-2.07 0-2.86zM5.41 20L4 18.59l7.72-7.72 1.47 1.35L5.41 20z\"/>\n",
              "  </svg>\n",
              "      </button>\n",
              "      \n",
              "  <style>\n",
              "    .colab-df-container {\n",
              "      display:flex;\n",
              "      flex-wrap:wrap;\n",
              "      gap: 12px;\n",
              "    }\n",
              "\n",
              "    .colab-df-convert {\n",
              "      background-color: #E8F0FE;\n",
              "      border: none;\n",
              "      border-radius: 50%;\n",
              "      cursor: pointer;\n",
              "      display: none;\n",
              "      fill: #1967D2;\n",
              "      height: 32px;\n",
              "      padding: 0 0 0 0;\n",
              "      width: 32px;\n",
              "    }\n",
              "\n",
              "    .colab-df-convert:hover {\n",
              "      background-color: #E2EBFA;\n",
              "      box-shadow: 0px 1px 2px rgba(60, 64, 67, 0.3), 0px 1px 3px 1px rgba(60, 64, 67, 0.15);\n",
              "      fill: #174EA6;\n",
              "    }\n",
              "\n",
              "    [theme=dark] .colab-df-convert {\n",
              "      background-color: #3B4455;\n",
              "      fill: #D2E3FC;\n",
              "    }\n",
              "\n",
              "    [theme=dark] .colab-df-convert:hover {\n",
              "      background-color: #434B5C;\n",
              "      box-shadow: 0px 1px 3px 1px rgba(0, 0, 0, 0.15);\n",
              "      filter: drop-shadow(0px 1px 2px rgba(0, 0, 0, 0.3));\n",
              "      fill: #FFFFFF;\n",
              "    }\n",
              "  </style>\n",
              "\n",
              "      <script>\n",
              "        const buttonEl =\n",
              "          document.querySelector('#df-83fdea9b-a415-4d40-8d9e-5ac7dbf93d12 button.colab-df-convert');\n",
              "        buttonEl.style.display =\n",
              "          google.colab.kernel.accessAllowed ? 'block' : 'none';\n",
              "\n",
              "        async function convertToInteractive(key) {\n",
              "          const element = document.querySelector('#df-83fdea9b-a415-4d40-8d9e-5ac7dbf93d12');\n",
              "          const dataTable =\n",
              "            await google.colab.kernel.invokeFunction('convertToInteractive',\n",
              "                                                     [key], {});\n",
              "          if (!dataTable) return;\n",
              "\n",
              "          const docLinkHtml = 'Like what you see? Visit the ' +\n",
              "            '<a target=\"_blank\" href=https://colab.research.google.com/notebooks/data_table.ipynb>data table notebook</a>'\n",
              "            + ' to learn more about interactive tables.';\n",
              "          element.innerHTML = '';\n",
              "          dataTable['output_type'] = 'display_data';\n",
              "          await google.colab.output.renderOutput(dataTable, element);\n",
              "          const docLink = document.createElement('div');\n",
              "          docLink.innerHTML = docLinkHtml;\n",
              "          element.appendChild(docLink);\n",
              "        }\n",
              "      </script>\n",
              "    </div>\n",
              "  </div>\n",
              "  "
            ]
          },
          "metadata": {},
          "execution_count": 63
        }
      ]
    },
    {
      "cell_type": "code",
      "source": [
        "data.isnull().sum()"
      ],
      "metadata": {
        "colab": {
          "base_uri": "https://localhost:8080/"
        },
        "id": "hl0JleZAupsO",
        "outputId": "2737caa6-e23b-4af9-c2b4-c7e455ead866"
      },
      "execution_count": null,
      "outputs": [
        {
          "output_type": "execute_result",
          "data": {
            "text/plain": [
              "MEMBER_NO             0\n",
              "FFP_DATE              0\n",
              "FIRST_FLIGHT_DATE     0\n",
              "GENDER                0\n",
              "FFP_TIER              0\n",
              "WORK_CITY             0\n",
              "WORK_PROVINCE         0\n",
              "WORK_COUNTRY          0\n",
              "AGE                   0\n",
              "LOAD_TIME             0\n",
              "FLIGHT_COUNT          0\n",
              "BP_SUM                0\n",
              "SUM_YR_1              0\n",
              "SUM_YR_2             74\n",
              "SEG_KM_SUM            0\n",
              "LAST_FLIGHT_DATE      0\n",
              "LAST_TO_END           0\n",
              "AVG_INTERVAL          0\n",
              "MAX_INTERVAL          0\n",
              "EXCHANGE_COUNT        0\n",
              "avg_discount          0\n",
              "Points_Sum            0\n",
              "Point_NotFlight       0\n",
              "dtype: int64"
            ]
          },
          "metadata": {},
          "execution_count": 64
        }
      ]
    },
    {
      "cell_type": "code",
      "source": [
        "data['SUM_YR_2'].interpolate(method = 'linear', inplace= True)"
      ],
      "metadata": {
        "id": "CVnR5kEru2fQ"
      },
      "execution_count": null,
      "outputs": []
    },
    {
      "cell_type": "code",
      "source": [
        "data.isnull().sum()"
      ],
      "metadata": {
        "colab": {
          "base_uri": "https://localhost:8080/"
        },
        "id": "j5-4u2Cqu5Y4",
        "outputId": "a9182bbc-854f-48c7-d202-7353975e7b71"
      },
      "execution_count": null,
      "outputs": [
        {
          "output_type": "execute_result",
          "data": {
            "text/plain": [
              "MEMBER_NO            0\n",
              "FFP_DATE             0\n",
              "FIRST_FLIGHT_DATE    0\n",
              "GENDER               0\n",
              "FFP_TIER             0\n",
              "WORK_CITY            0\n",
              "WORK_PROVINCE        0\n",
              "WORK_COUNTRY         0\n",
              "AGE                  0\n",
              "LOAD_TIME            0\n",
              "FLIGHT_COUNT         0\n",
              "BP_SUM               0\n",
              "SUM_YR_1             0\n",
              "SUM_YR_2             0\n",
              "SEG_KM_SUM           0\n",
              "LAST_FLIGHT_DATE     0\n",
              "LAST_TO_END          0\n",
              "AVG_INTERVAL         0\n",
              "MAX_INTERVAL         0\n",
              "EXCHANGE_COUNT       0\n",
              "avg_discount         0\n",
              "Points_Sum           0\n",
              "Point_NotFlight      0\n",
              "dtype: int64"
            ]
          },
          "metadata": {},
          "execution_count": 66
        }
      ]
    },
    {
      "cell_type": "code",
      "source": [
        "data.nunique()"
      ],
      "metadata": {
        "colab": {
          "base_uri": "https://localhost:8080/"
        },
        "id": "O2H-B0y5u_sN",
        "outputId": "67cb7d32-b55c-4b4e-91bf-2a83c61b0136"
      },
      "execution_count": null,
      "outputs": [
        {
          "output_type": "execute_result",
          "data": {
            "text/plain": [
              "MEMBER_NO            7476\n",
              "FFP_DATE             2324\n",
              "FIRST_FLIGHT_DATE    2465\n",
              "GENDER                  2\n",
              "FFP_TIER                3\n",
              "WORK_CITY             782\n",
              "WORK_PROVINCE         276\n",
              "WORK_COUNTRY           40\n",
              "AGE                    70\n",
              "LOAD_TIME               1\n",
              "FLIGHT_COUNT            9\n",
              "BP_SUM               1441\n",
              "SUM_YR_1             1485\n",
              "SUM_YR_2             1538\n",
              "SEG_KM_SUM           2312\n",
              "LAST_FLIGHT_DATE      730\n",
              "LAST_TO_END           730\n",
              "AVG_INTERVAL         1111\n",
              "MAX_INTERVAL          627\n",
              "EXCHANGE_COUNT          8\n",
              "avg_discount         4143\n",
              "Points_Sum           2219\n",
              "Point_NotFlight        46\n",
              "dtype: int64"
            ]
          },
          "metadata": {},
          "execution_count": 67
        }
      ]
    },
    {
      "cell_type": "code",
      "source": [
        "data.dtypes\n",
        "#have to take care of object dtypes as not all will be useful for us."
      ],
      "metadata": {
        "colab": {
          "base_uri": "https://localhost:8080/"
        },
        "id": "MPPAAD5pvMgm",
        "outputId": "fbd44699-ecc3-4629-c99b-94eb615e7a4a"
      },
      "execution_count": null,
      "outputs": [
        {
          "output_type": "execute_result",
          "data": {
            "text/plain": [
              "MEMBER_NO              int64\n",
              "FFP_DATE              object\n",
              "FIRST_FLIGHT_DATE     object\n",
              "GENDER                object\n",
              "FFP_TIER               int64\n",
              "WORK_CITY             object\n",
              "WORK_PROVINCE         object\n",
              "WORK_COUNTRY          object\n",
              "AGE                  float64\n",
              "LOAD_TIME             object\n",
              "FLIGHT_COUNT           int64\n",
              "BP_SUM                 int64\n",
              "SUM_YR_1             float64\n",
              "SUM_YR_2             float64\n",
              "SEG_KM_SUM             int64\n",
              "LAST_FLIGHT_DATE      object\n",
              "LAST_TO_END            int64\n",
              "AVG_INTERVAL         float64\n",
              "MAX_INTERVAL           int64\n",
              "EXCHANGE_COUNT         int64\n",
              "avg_discount         float64\n",
              "Points_Sum             int64\n",
              "Point_NotFlight        int64\n",
              "dtype: object"
            ]
          },
          "metadata": {},
          "execution_count": 68
        }
      ]
    },
    {
      "cell_type": "code",
      "source": [
        "data['AGE'].unique()"
      ],
      "metadata": {
        "colab": {
          "base_uri": "https://localhost:8080/"
        },
        "id": "t20zVeJMvSlh",
        "outputId": "1055bf51-d0ed-40ab-aab1-805c4724dc33"
      },
      "execution_count": null,
      "outputs": [
        {
          "output_type": "execute_result",
          "data": {
            "text/plain": [
              "array([29., 43., 31., 30., 40., 33., 34., 45., 35., 46., 23., 57., 53.,\n",
              "       37., 44., 48., 41., 39., 63., 47., 38., 36., 25., 52., 54., 28.,\n",
              "       56., 49., 42., 24., 32., 76., 58., 59., 62., 51., 55., 65., 61.,\n",
              "       67., 69., 27., 26., 50., 64., 21., 22., 73., 78., 60., 70., 66.,\n",
              "       75., 68., 74., 71., 72., 16., 17., 79., 19., 77., 18., 84., 13.,\n",
              "       91., 20., 83.,  9., 92.])"
            ]
          },
          "metadata": {},
          "execution_count": 69
        }
      ]
    },
    {
      "cell_type": "code",
      "source": [
        "data['WORK_CITY'].nunique()"
      ],
      "metadata": {
        "colab": {
          "base_uri": "https://localhost:8080/"
        },
        "id": "MeAMUdHuvnmW",
        "outputId": "64e0ddcd-542b-4544-b3d7-3530c965b0a9"
      },
      "execution_count": null,
      "outputs": [
        {
          "output_type": "execute_result",
          "data": {
            "text/plain": [
              "782"
            ]
          },
          "metadata": {},
          "execution_count": 70
        }
      ]
    },
    {
      "cell_type": "code",
      "source": [
        "data['WORK_PROVINCE'].nunique()"
      ],
      "metadata": {
        "colab": {
          "base_uri": "https://localhost:8080/"
        },
        "id": "3kMsnIOWvxrX",
        "outputId": "f20781fe-2f0e-4e4b-f29d-6bccfe14a807"
      },
      "execution_count": null,
      "outputs": [
        {
          "output_type": "execute_result",
          "data": {
            "text/plain": [
              "276"
            ]
          },
          "metadata": {},
          "execution_count": 71
        }
      ]
    },
    {
      "cell_type": "code",
      "source": [
        "data['WORK_COUNTRY'].nunique()"
      ],
      "metadata": {
        "colab": {
          "base_uri": "https://localhost:8080/"
        },
        "id": "EaO0rhKPv2dG",
        "outputId": "bff89b4a-035e-4674-8442-93d1265d388f"
      },
      "execution_count": null,
      "outputs": [
        {
          "output_type": "execute_result",
          "data": {
            "text/plain": [
              "40"
            ]
          },
          "metadata": {},
          "execution_count": 72
        }
      ]
    },
    {
      "cell_type": "code",
      "source": [
        "country_members = data[['WORK_COUNTRY', 'MEMBER_NO']]\n",
        "country_members"
      ],
      "metadata": {
        "colab": {
          "base_uri": "https://localhost:8080/",
          "height": 424
        },
        "id": "5ih1c7Ulv4ma",
        "outputId": "e2301294-359f-475e-bce9-d244a84a8b66"
      },
      "execution_count": null,
      "outputs": [
        {
          "output_type": "execute_result",
          "data": {
            "text/plain": [
              "     WORK_COUNTRY  MEMBER_NO\n",
              "0              CN      27355\n",
              "1              CN       4032\n",
              "2              CN      12913\n",
              "3              CN      58465\n",
              "4              CN      45414\n",
              "...           ...        ...\n",
              "7983           CN      18375\n",
              "7984           CN      36041\n",
              "7985           CN      45690\n",
              "7986           CN      61027\n",
              "7987           CN      61340\n",
              "\n",
              "[7476 rows x 2 columns]"
            ],
            "text/html": [
              "\n",
              "  <div id=\"df-c89be62a-9c5a-4759-ba66-bad263c9632c\">\n",
              "    <div class=\"colab-df-container\">\n",
              "      <div>\n",
              "<style scoped>\n",
              "    .dataframe tbody tr th:only-of-type {\n",
              "        vertical-align: middle;\n",
              "    }\n",
              "\n",
              "    .dataframe tbody tr th {\n",
              "        vertical-align: top;\n",
              "    }\n",
              "\n",
              "    .dataframe thead th {\n",
              "        text-align: right;\n",
              "    }\n",
              "</style>\n",
              "<table border=\"1\" class=\"dataframe\">\n",
              "  <thead>\n",
              "    <tr style=\"text-align: right;\">\n",
              "      <th></th>\n",
              "      <th>WORK_COUNTRY</th>\n",
              "      <th>MEMBER_NO</th>\n",
              "    </tr>\n",
              "  </thead>\n",
              "  <tbody>\n",
              "    <tr>\n",
              "      <th>0</th>\n",
              "      <td>CN</td>\n",
              "      <td>27355</td>\n",
              "    </tr>\n",
              "    <tr>\n",
              "      <th>1</th>\n",
              "      <td>CN</td>\n",
              "      <td>4032</td>\n",
              "    </tr>\n",
              "    <tr>\n",
              "      <th>2</th>\n",
              "      <td>CN</td>\n",
              "      <td>12913</td>\n",
              "    </tr>\n",
              "    <tr>\n",
              "      <th>3</th>\n",
              "      <td>CN</td>\n",
              "      <td>58465</td>\n",
              "    </tr>\n",
              "    <tr>\n",
              "      <th>4</th>\n",
              "      <td>CN</td>\n",
              "      <td>45414</td>\n",
              "    </tr>\n",
              "    <tr>\n",
              "      <th>...</th>\n",
              "      <td>...</td>\n",
              "      <td>...</td>\n",
              "    </tr>\n",
              "    <tr>\n",
              "      <th>7983</th>\n",
              "      <td>CN</td>\n",
              "      <td>18375</td>\n",
              "    </tr>\n",
              "    <tr>\n",
              "      <th>7984</th>\n",
              "      <td>CN</td>\n",
              "      <td>36041</td>\n",
              "    </tr>\n",
              "    <tr>\n",
              "      <th>7985</th>\n",
              "      <td>CN</td>\n",
              "      <td>45690</td>\n",
              "    </tr>\n",
              "    <tr>\n",
              "      <th>7986</th>\n",
              "      <td>CN</td>\n",
              "      <td>61027</td>\n",
              "    </tr>\n",
              "    <tr>\n",
              "      <th>7987</th>\n",
              "      <td>CN</td>\n",
              "      <td>61340</td>\n",
              "    </tr>\n",
              "  </tbody>\n",
              "</table>\n",
              "<p>7476 rows × 2 columns</p>\n",
              "</div>\n",
              "      <button class=\"colab-df-convert\" onclick=\"convertToInteractive('df-c89be62a-9c5a-4759-ba66-bad263c9632c')\"\n",
              "              title=\"Convert this dataframe to an interactive table.\"\n",
              "              style=\"display:none;\">\n",
              "        \n",
              "  <svg xmlns=\"http://www.w3.org/2000/svg\" height=\"24px\"viewBox=\"0 0 24 24\"\n",
              "       width=\"24px\">\n",
              "    <path d=\"M0 0h24v24H0V0z\" fill=\"none\"/>\n",
              "    <path d=\"M18.56 5.44l.94 2.06.94-2.06 2.06-.94-2.06-.94-.94-2.06-.94 2.06-2.06.94zm-11 1L8.5 8.5l.94-2.06 2.06-.94-2.06-.94L8.5 2.5l-.94 2.06-2.06.94zm10 10l.94 2.06.94-2.06 2.06-.94-2.06-.94-.94-2.06-.94 2.06-2.06.94z\"/><path d=\"M17.41 7.96l-1.37-1.37c-.4-.4-.92-.59-1.43-.59-.52 0-1.04.2-1.43.59L10.3 9.45l-7.72 7.72c-.78.78-.78 2.05 0 2.83L4 21.41c.39.39.9.59 1.41.59.51 0 1.02-.2 1.41-.59l7.78-7.78 2.81-2.81c.8-.78.8-2.07 0-2.86zM5.41 20L4 18.59l7.72-7.72 1.47 1.35L5.41 20z\"/>\n",
              "  </svg>\n",
              "      </button>\n",
              "      \n",
              "  <style>\n",
              "    .colab-df-container {\n",
              "      display:flex;\n",
              "      flex-wrap:wrap;\n",
              "      gap: 12px;\n",
              "    }\n",
              "\n",
              "    .colab-df-convert {\n",
              "      background-color: #E8F0FE;\n",
              "      border: none;\n",
              "      border-radius: 50%;\n",
              "      cursor: pointer;\n",
              "      display: none;\n",
              "      fill: #1967D2;\n",
              "      height: 32px;\n",
              "      padding: 0 0 0 0;\n",
              "      width: 32px;\n",
              "    }\n",
              "\n",
              "    .colab-df-convert:hover {\n",
              "      background-color: #E2EBFA;\n",
              "      box-shadow: 0px 1px 2px rgba(60, 64, 67, 0.3), 0px 1px 3px 1px rgba(60, 64, 67, 0.15);\n",
              "      fill: #174EA6;\n",
              "    }\n",
              "\n",
              "    [theme=dark] .colab-df-convert {\n",
              "      background-color: #3B4455;\n",
              "      fill: #D2E3FC;\n",
              "    }\n",
              "\n",
              "    [theme=dark] .colab-df-convert:hover {\n",
              "      background-color: #434B5C;\n",
              "      box-shadow: 0px 1px 3px 1px rgba(0, 0, 0, 0.15);\n",
              "      filter: drop-shadow(0px 1px 2px rgba(0, 0, 0, 0.3));\n",
              "      fill: #FFFFFF;\n",
              "    }\n",
              "  </style>\n",
              "\n",
              "      <script>\n",
              "        const buttonEl =\n",
              "          document.querySelector('#df-c89be62a-9c5a-4759-ba66-bad263c9632c button.colab-df-convert');\n",
              "        buttonEl.style.display =\n",
              "          google.colab.kernel.accessAllowed ? 'block' : 'none';\n",
              "\n",
              "        async function convertToInteractive(key) {\n",
              "          const element = document.querySelector('#df-c89be62a-9c5a-4759-ba66-bad263c9632c');\n",
              "          const dataTable =\n",
              "            await google.colab.kernel.invokeFunction('convertToInteractive',\n",
              "                                                     [key], {});\n",
              "          if (!dataTable) return;\n",
              "\n",
              "          const docLinkHtml = 'Like what you see? Visit the ' +\n",
              "            '<a target=\"_blank\" href=https://colab.research.google.com/notebooks/data_table.ipynb>data table notebook</a>'\n",
              "            + ' to learn more about interactive tables.';\n",
              "          element.innerHTML = '';\n",
              "          dataTable['output_type'] = 'display_data';\n",
              "          await google.colab.output.renderOutput(dataTable, element);\n",
              "          const docLink = document.createElement('div');\n",
              "          docLink.innerHTML = docLinkHtml;\n",
              "          element.appendChild(docLink);\n",
              "        }\n",
              "      </script>\n",
              "    </div>\n",
              "  </div>\n",
              "  "
            ]
          },
          "metadata": {},
          "execution_count": 73
        }
      ]
    },
    {
      "cell_type": "code",
      "source": [
        "country_members.groupby(['WORK_COUNTRY'])['MEMBER_NO'].count().sort_values(ascending= False)"
      ],
      "metadata": {
        "colab": {
          "base_uri": "https://localhost:8080/"
        },
        "id": "74m5nc7UwUFT",
        "outputId": "7637276b-ee56-4308-a04a-aa78652a3039"
      },
      "execution_count": null,
      "outputs": [
        {
          "output_type": "execute_result",
          "data": {
            "text/plain": [
              "WORK_COUNTRY\n",
              "CN    7083\n",
              "KR     157\n",
              "US      44\n",
              "HK      40\n",
              "JP      34\n",
              "TW      15\n",
              "CA      14\n",
              "SG      11\n",
              "AU      10\n",
              "MY      10\n",
              "中        8\n",
              "DE       6\n",
              "PH       5\n",
              "GB       4\n",
              "LA       2\n",
              "TR       2\n",
              "SA       2\n",
              "NL       2\n",
              "NI       2\n",
              "DK       2\n",
              "NG       2\n",
              "ID       2\n",
              "ES       2\n",
              "KA       1\n",
              "TH       1\n",
              "cn       1\n",
              "ZA       1\n",
              "VN       1\n",
              "UY       1\n",
              "BE       1\n",
              "BG       1\n",
              "BR       1\n",
              "CL       1\n",
              "FR       1\n",
              "CR       1\n",
              "IA       1\n",
              "IT       1\n",
              "CH       1\n",
              "AT       1\n",
              "AR       1\n",
              "Name: MEMBER_NO, dtype: int64"
            ]
          },
          "metadata": {},
          "execution_count": 74
        }
      ]
    },
    {
      "cell_type": "code",
      "source": [
        "#40 work countries converted into one hot encoding will make the data huge. \n",
        "#adding 4o more features is adding 40 more dimensions and most of the dimensions are sparse\n",
        "#hence we are selecting only a few contries with more members\n",
        "data = data[data.WORK_COUNTRY.isin(['CN', 'KR', 'US', 'HK', 'JP'])]\n",
        "#data will only have those records with members from above contries"
      ],
      "metadata": {
        "id": "OU7Zep0Mwl7t"
      },
      "execution_count": null,
      "outputs": []
    },
    {
      "cell_type": "code",
      "source": [
        "data.WORK_COUNTRY.unique()"
      ],
      "metadata": {
        "colab": {
          "base_uri": "https://localhost:8080/"
        },
        "id": "_3H8hfJqxPEo",
        "outputId": "bb6f148a-bb90-4b81-b13b-983776ea061b"
      },
      "execution_count": null,
      "outputs": [
        {
          "output_type": "execute_result",
          "data": {
            "text/plain": [
              "array(['CN', 'HK', 'KR', 'US', 'JP'], dtype=object)"
            ]
          },
          "metadata": {},
          "execution_count": 76
        }
      ]
    },
    {
      "cell_type": "code",
      "source": [
        "data.info()"
      ],
      "metadata": {
        "colab": {
          "base_uri": "https://localhost:8080/"
        },
        "id": "DsVFPYZYxYEP",
        "outputId": "5ceace6c-7e17-488b-f29c-abb32be609a9"
      },
      "execution_count": null,
      "outputs": [
        {
          "output_type": "stream",
          "name": "stdout",
          "text": [
            "<class 'pandas.core.frame.DataFrame'>\n",
            "Int64Index: 7358 entries, 0 to 7987\n",
            "Data columns (total 23 columns):\n",
            " #   Column             Non-Null Count  Dtype  \n",
            "---  ------             --------------  -----  \n",
            " 0   MEMBER_NO          7358 non-null   int64  \n",
            " 1   FFP_DATE           7358 non-null   object \n",
            " 2   FIRST_FLIGHT_DATE  7358 non-null   object \n",
            " 3   GENDER             7358 non-null   object \n",
            " 4   FFP_TIER           7358 non-null   int64  \n",
            " 5   WORK_CITY          7358 non-null   object \n",
            " 6   WORK_PROVINCE      7358 non-null   object \n",
            " 7   WORK_COUNTRY       7358 non-null   object \n",
            " 8   AGE                7358 non-null   float64\n",
            " 9   LOAD_TIME          7358 non-null   object \n",
            " 10  FLIGHT_COUNT       7358 non-null   int64  \n",
            " 11  BP_SUM             7358 non-null   int64  \n",
            " 12  SUM_YR_1           7358 non-null   float64\n",
            " 13  SUM_YR_2           7358 non-null   float64\n",
            " 14  SEG_KM_SUM         7358 non-null   int64  \n",
            " 15  LAST_FLIGHT_DATE   7358 non-null   object \n",
            " 16  LAST_TO_END        7358 non-null   int64  \n",
            " 17  AVG_INTERVAL       7358 non-null   float64\n",
            " 18  MAX_INTERVAL       7358 non-null   int64  \n",
            " 19  EXCHANGE_COUNT     7358 non-null   int64  \n",
            " 20  avg_discount       7358 non-null   float64\n",
            " 21  Points_Sum         7358 non-null   int64  \n",
            " 22  Point_NotFlight    7358 non-null   int64  \n",
            "dtypes: float64(5), int64(10), object(8)\n",
            "memory usage: 1.3+ MB\n"
          ]
        }
      ]
    },
    {
      "cell_type": "code",
      "source": [
        "#dropping irrelevant features. \n",
        "# 700 city and 200 provines, they are very detailes, we just need high level pattern so dropping those\n",
        "data.drop(columns =['MEMBER_NO', 'FFP_DATE', 'FIRST_FLIGHT_DATE','LAST_FLIGHT_DATE', 'LOAD_TIME', 'WORK_CITY', 'WORK_PROVINCE'], axis =1, inplace= True)"
      ],
      "metadata": {
        "id": "32qrGnq26X6h"
      },
      "execution_count": null,
      "outputs": []
    },
    {
      "cell_type": "code",
      "source": [
        "data.dtypes"
      ],
      "metadata": {
        "colab": {
          "base_uri": "https://localhost:8080/"
        },
        "id": "HaNRRx4h9b-F",
        "outputId": "15e50513-a6e8-49ea-d4f7-323a42270b2f"
      },
      "execution_count": null,
      "outputs": [
        {
          "output_type": "execute_result",
          "data": {
            "text/plain": [
              "GENDER              object\n",
              "FFP_TIER             int64\n",
              "WORK_COUNTRY        object\n",
              "AGE                float64\n",
              "FLIGHT_COUNT         int64\n",
              "BP_SUM               int64\n",
              "SUM_YR_1           float64\n",
              "SUM_YR_2           float64\n",
              "SEG_KM_SUM           int64\n",
              "LAST_TO_END          int64\n",
              "AVG_INTERVAL       float64\n",
              "MAX_INTERVAL         int64\n",
              "EXCHANGE_COUNT       int64\n",
              "avg_discount       float64\n",
              "Points_Sum           int64\n",
              "Point_NotFlight      int64\n",
              "dtype: object"
            ]
          },
          "metadata": {},
          "execution_count": 80
        }
      ]
    },
    {
      "cell_type": "code",
      "source": [
        "data.isnull().sum()"
      ],
      "metadata": {
        "colab": {
          "base_uri": "https://localhost:8080/"
        },
        "id": "yXB0VFSG-ajp",
        "outputId": "82890e7c-4ece-45b8-f4de-5a62f5c5c705"
      },
      "execution_count": null,
      "outputs": [
        {
          "output_type": "execute_result",
          "data": {
            "text/plain": [
              "GENDER             0\n",
              "FFP_TIER           0\n",
              "WORK_COUNTRY       0\n",
              "AGE                0\n",
              "FLIGHT_COUNT       0\n",
              "BP_SUM             0\n",
              "SUM_YR_1           0\n",
              "SUM_YR_2           0\n",
              "SEG_KM_SUM         0\n",
              "LAST_TO_END        0\n",
              "AVG_INTERVAL       0\n",
              "MAX_INTERVAL       0\n",
              "EXCHANGE_COUNT     0\n",
              "avg_discount       0\n",
              "Points_Sum         0\n",
              "Point_NotFlight    0\n",
              "dtype: int64"
            ]
          },
          "metadata": {},
          "execution_count": 81
        }
      ]
    },
    {
      "cell_type": "code",
      "source": [
        "#Encoding\n"
      ],
      "metadata": {
        "id": "OMeGoMVo-smC"
      },
      "execution_count": null,
      "outputs": []
    },
    {
      "cell_type": "code",
      "source": [
        "#pd.get_dummies- can be used to analyze data cannot keep using it like OHE as we do not create an object of it\n",
        "#can't do the same transformation on test data in dummies\n",
        "data= pd.get_dummies(data, columns= ['WORK_COUNTRY'])"
      ],
      "metadata": {
        "id": "WvdD3MLEAO6u"
      },
      "execution_count": null,
      "outputs": []
    },
    {
      "cell_type": "code",
      "source": [
        "data.shape"
      ],
      "metadata": {
        "colab": {
          "base_uri": "https://localhost:8080/"
        },
        "id": "4AlLcHfRAmfu",
        "outputId": "f5b65759-dff7-43b0-cd1f-73ef10eaccd4"
      },
      "execution_count": null,
      "outputs": [
        {
          "output_type": "execute_result",
          "data": {
            "text/plain": [
              "(7358, 20)"
            ]
          },
          "metadata": {},
          "execution_count": 85
        }
      ]
    },
    {
      "cell_type": "code",
      "source": [
        "data.head()"
      ],
      "metadata": {
        "colab": {
          "base_uri": "https://localhost:8080/",
          "height": 270
        },
        "id": "wfbv2wG-Ax2F",
        "outputId": "7b7a49c8-8111-45cc-e65a-740ed9552111"
      },
      "execution_count": null,
      "outputs": [
        {
          "output_type": "execute_result",
          "data": {
            "text/plain": [
              "   GENDER  FFP_TIER   AGE  FLIGHT_COUNT  BP_SUM  SUM_YR_1  SUM_YR_2  \\\n",
              "0    Male         4  29.0             2    1677    1830.0       0.0   \n",
              "1  Female         4  43.0             3    1731     960.0     984.0   \n",
              "2    Male         4  31.0             3    1626    1992.0       0.0   \n",
              "3    Male         4  30.0             4    1786    2013.0     485.0   \n",
              "4    Male         4  40.0             3    1646    1555.0     442.0   \n",
              "\n",
              "   SEG_KM_SUM  LAST_TO_END  AVG_INTERVAL  MAX_INTERVAL  EXCHANGE_COUNT  \\\n",
              "0        2005          549         120.0           120               0   \n",
              "1        2301           57         252.0           477               0   \n",
              "2        2397          385         115.5           167               0   \n",
              "3        2852          288          86.0           174               0   \n",
              "4        3777           36         268.5           536               0   \n",
              "\n",
              "   avg_discount  Points_Sum  Point_NotFlight  WORK_COUNTRY_CN  \\\n",
              "0      1.000000        2879                6                1   \n",
              "1      0.871291        1731                0                1   \n",
              "2      0.836358        1626                0                1   \n",
              "3      0.702924        1786                0                1   \n",
              "4      0.530725        3639               22                1   \n",
              "\n",
              "   WORK_COUNTRY_HK  WORK_COUNTRY_JP  WORK_COUNTRY_KR  WORK_COUNTRY_US  \n",
              "0                0                0                0                0  \n",
              "1                0                0                0                0  \n",
              "2                0                0                0                0  \n",
              "3                0                0                0                0  \n",
              "4                0                0                0                0  "
            ],
            "text/html": [
              "\n",
              "  <div id=\"df-6e21fc73-5c96-4a49-82ad-55377d09e16d\">\n",
              "    <div class=\"colab-df-container\">\n",
              "      <div>\n",
              "<style scoped>\n",
              "    .dataframe tbody tr th:only-of-type {\n",
              "        vertical-align: middle;\n",
              "    }\n",
              "\n",
              "    .dataframe tbody tr th {\n",
              "        vertical-align: top;\n",
              "    }\n",
              "\n",
              "    .dataframe thead th {\n",
              "        text-align: right;\n",
              "    }\n",
              "</style>\n",
              "<table border=\"1\" class=\"dataframe\">\n",
              "  <thead>\n",
              "    <tr style=\"text-align: right;\">\n",
              "      <th></th>\n",
              "      <th>GENDER</th>\n",
              "      <th>FFP_TIER</th>\n",
              "      <th>AGE</th>\n",
              "      <th>FLIGHT_COUNT</th>\n",
              "      <th>BP_SUM</th>\n",
              "      <th>SUM_YR_1</th>\n",
              "      <th>SUM_YR_2</th>\n",
              "      <th>SEG_KM_SUM</th>\n",
              "      <th>LAST_TO_END</th>\n",
              "      <th>AVG_INTERVAL</th>\n",
              "      <th>MAX_INTERVAL</th>\n",
              "      <th>EXCHANGE_COUNT</th>\n",
              "      <th>avg_discount</th>\n",
              "      <th>Points_Sum</th>\n",
              "      <th>Point_NotFlight</th>\n",
              "      <th>WORK_COUNTRY_CN</th>\n",
              "      <th>WORK_COUNTRY_HK</th>\n",
              "      <th>WORK_COUNTRY_JP</th>\n",
              "      <th>WORK_COUNTRY_KR</th>\n",
              "      <th>WORK_COUNTRY_US</th>\n",
              "    </tr>\n",
              "  </thead>\n",
              "  <tbody>\n",
              "    <tr>\n",
              "      <th>0</th>\n",
              "      <td>Male</td>\n",
              "      <td>4</td>\n",
              "      <td>29.0</td>\n",
              "      <td>2</td>\n",
              "      <td>1677</td>\n",
              "      <td>1830.0</td>\n",
              "      <td>0.0</td>\n",
              "      <td>2005</td>\n",
              "      <td>549</td>\n",
              "      <td>120.0</td>\n",
              "      <td>120</td>\n",
              "      <td>0</td>\n",
              "      <td>1.000000</td>\n",
              "      <td>2879</td>\n",
              "      <td>6</td>\n",
              "      <td>1</td>\n",
              "      <td>0</td>\n",
              "      <td>0</td>\n",
              "      <td>0</td>\n",
              "      <td>0</td>\n",
              "    </tr>\n",
              "    <tr>\n",
              "      <th>1</th>\n",
              "      <td>Female</td>\n",
              "      <td>4</td>\n",
              "      <td>43.0</td>\n",
              "      <td>3</td>\n",
              "      <td>1731</td>\n",
              "      <td>960.0</td>\n",
              "      <td>984.0</td>\n",
              "      <td>2301</td>\n",
              "      <td>57</td>\n",
              "      <td>252.0</td>\n",
              "      <td>477</td>\n",
              "      <td>0</td>\n",
              "      <td>0.871291</td>\n",
              "      <td>1731</td>\n",
              "      <td>0</td>\n",
              "      <td>1</td>\n",
              "      <td>0</td>\n",
              "      <td>0</td>\n",
              "      <td>0</td>\n",
              "      <td>0</td>\n",
              "    </tr>\n",
              "    <tr>\n",
              "      <th>2</th>\n",
              "      <td>Male</td>\n",
              "      <td>4</td>\n",
              "      <td>31.0</td>\n",
              "      <td>3</td>\n",
              "      <td>1626</td>\n",
              "      <td>1992.0</td>\n",
              "      <td>0.0</td>\n",
              "      <td>2397</td>\n",
              "      <td>385</td>\n",
              "      <td>115.5</td>\n",
              "      <td>167</td>\n",
              "      <td>0</td>\n",
              "      <td>0.836358</td>\n",
              "      <td>1626</td>\n",
              "      <td>0</td>\n",
              "      <td>1</td>\n",
              "      <td>0</td>\n",
              "      <td>0</td>\n",
              "      <td>0</td>\n",
              "      <td>0</td>\n",
              "    </tr>\n",
              "    <tr>\n",
              "      <th>3</th>\n",
              "      <td>Male</td>\n",
              "      <td>4</td>\n",
              "      <td>30.0</td>\n",
              "      <td>4</td>\n",
              "      <td>1786</td>\n",
              "      <td>2013.0</td>\n",
              "      <td>485.0</td>\n",
              "      <td>2852</td>\n",
              "      <td>288</td>\n",
              "      <td>86.0</td>\n",
              "      <td>174</td>\n",
              "      <td>0</td>\n",
              "      <td>0.702924</td>\n",
              "      <td>1786</td>\n",
              "      <td>0</td>\n",
              "      <td>1</td>\n",
              "      <td>0</td>\n",
              "      <td>0</td>\n",
              "      <td>0</td>\n",
              "      <td>0</td>\n",
              "    </tr>\n",
              "    <tr>\n",
              "      <th>4</th>\n",
              "      <td>Male</td>\n",
              "      <td>4</td>\n",
              "      <td>40.0</td>\n",
              "      <td>3</td>\n",
              "      <td>1646</td>\n",
              "      <td>1555.0</td>\n",
              "      <td>442.0</td>\n",
              "      <td>3777</td>\n",
              "      <td>36</td>\n",
              "      <td>268.5</td>\n",
              "      <td>536</td>\n",
              "      <td>0</td>\n",
              "      <td>0.530725</td>\n",
              "      <td>3639</td>\n",
              "      <td>22</td>\n",
              "      <td>1</td>\n",
              "      <td>0</td>\n",
              "      <td>0</td>\n",
              "      <td>0</td>\n",
              "      <td>0</td>\n",
              "    </tr>\n",
              "  </tbody>\n",
              "</table>\n",
              "</div>\n",
              "      <button class=\"colab-df-convert\" onclick=\"convertToInteractive('df-6e21fc73-5c96-4a49-82ad-55377d09e16d')\"\n",
              "              title=\"Convert this dataframe to an interactive table.\"\n",
              "              style=\"display:none;\">\n",
              "        \n",
              "  <svg xmlns=\"http://www.w3.org/2000/svg\" height=\"24px\"viewBox=\"0 0 24 24\"\n",
              "       width=\"24px\">\n",
              "    <path d=\"M0 0h24v24H0V0z\" fill=\"none\"/>\n",
              "    <path d=\"M18.56 5.44l.94 2.06.94-2.06 2.06-.94-2.06-.94-.94-2.06-.94 2.06-2.06.94zm-11 1L8.5 8.5l.94-2.06 2.06-.94-2.06-.94L8.5 2.5l-.94 2.06-2.06.94zm10 10l.94 2.06.94-2.06 2.06-.94-2.06-.94-.94-2.06-.94 2.06-2.06.94z\"/><path d=\"M17.41 7.96l-1.37-1.37c-.4-.4-.92-.59-1.43-.59-.52 0-1.04.2-1.43.59L10.3 9.45l-7.72 7.72c-.78.78-.78 2.05 0 2.83L4 21.41c.39.39.9.59 1.41.59.51 0 1.02-.2 1.41-.59l7.78-7.78 2.81-2.81c.8-.78.8-2.07 0-2.86zM5.41 20L4 18.59l7.72-7.72 1.47 1.35L5.41 20z\"/>\n",
              "  </svg>\n",
              "      </button>\n",
              "      \n",
              "  <style>\n",
              "    .colab-df-container {\n",
              "      display:flex;\n",
              "      flex-wrap:wrap;\n",
              "      gap: 12px;\n",
              "    }\n",
              "\n",
              "    .colab-df-convert {\n",
              "      background-color: #E8F0FE;\n",
              "      border: none;\n",
              "      border-radius: 50%;\n",
              "      cursor: pointer;\n",
              "      display: none;\n",
              "      fill: #1967D2;\n",
              "      height: 32px;\n",
              "      padding: 0 0 0 0;\n",
              "      width: 32px;\n",
              "    }\n",
              "\n",
              "    .colab-df-convert:hover {\n",
              "      background-color: #E2EBFA;\n",
              "      box-shadow: 0px 1px 2px rgba(60, 64, 67, 0.3), 0px 1px 3px 1px rgba(60, 64, 67, 0.15);\n",
              "      fill: #174EA6;\n",
              "    }\n",
              "\n",
              "    [theme=dark] .colab-df-convert {\n",
              "      background-color: #3B4455;\n",
              "      fill: #D2E3FC;\n",
              "    }\n",
              "\n",
              "    [theme=dark] .colab-df-convert:hover {\n",
              "      background-color: #434B5C;\n",
              "      box-shadow: 0px 1px 3px 1px rgba(0, 0, 0, 0.15);\n",
              "      filter: drop-shadow(0px 1px 2px rgba(0, 0, 0, 0.3));\n",
              "      fill: #FFFFFF;\n",
              "    }\n",
              "  </style>\n",
              "\n",
              "      <script>\n",
              "        const buttonEl =\n",
              "          document.querySelector('#df-6e21fc73-5c96-4a49-82ad-55377d09e16d button.colab-df-convert');\n",
              "        buttonEl.style.display =\n",
              "          google.colab.kernel.accessAllowed ? 'block' : 'none';\n",
              "\n",
              "        async function convertToInteractive(key) {\n",
              "          const element = document.querySelector('#df-6e21fc73-5c96-4a49-82ad-55377d09e16d');\n",
              "          const dataTable =\n",
              "            await google.colab.kernel.invokeFunction('convertToInteractive',\n",
              "                                                     [key], {});\n",
              "          if (!dataTable) return;\n",
              "\n",
              "          const docLinkHtml = 'Like what you see? Visit the ' +\n",
              "            '<a target=\"_blank\" href=https://colab.research.google.com/notebooks/data_table.ipynb>data table notebook</a>'\n",
              "            + ' to learn more about interactive tables.';\n",
              "          element.innerHTML = '';\n",
              "          dataTable['output_type'] = 'display_data';\n",
              "          await google.colab.output.renderOutput(dataTable, element);\n",
              "          const docLink = document.createElement('div');\n",
              "          docLink.innerHTML = docLinkHtml;\n",
              "          element.appendChild(docLink);\n",
              "        }\n",
              "      </script>\n",
              "    </div>\n",
              "  </div>\n",
              "  "
            ]
          },
          "metadata": {},
          "execution_count": 86
        }
      ]
    },
    {
      "cell_type": "code",
      "source": [
        "data.dtypes"
      ],
      "metadata": {
        "colab": {
          "base_uri": "https://localhost:8080/"
        },
        "id": "XSElfHQyAzFA",
        "outputId": "4a4105f2-82e7-4445-a7fb-17a4a722ced2"
      },
      "execution_count": null,
      "outputs": [
        {
          "output_type": "execute_result",
          "data": {
            "text/plain": [
              "GENDER              object\n",
              "FFP_TIER             int64\n",
              "AGE                float64\n",
              "FLIGHT_COUNT         int64\n",
              "BP_SUM               int64\n",
              "SUM_YR_1           float64\n",
              "SUM_YR_2           float64\n",
              "SEG_KM_SUM           int64\n",
              "LAST_TO_END          int64\n",
              "AVG_INTERVAL       float64\n",
              "MAX_INTERVAL         int64\n",
              "EXCHANGE_COUNT       int64\n",
              "avg_discount       float64\n",
              "Points_Sum           int64\n",
              "Point_NotFlight      int64\n",
              "WORK_COUNTRY_CN      uint8\n",
              "WORK_COUNTRY_HK      uint8\n",
              "WORK_COUNTRY_JP      uint8\n",
              "WORK_COUNTRY_KR      uint8\n",
              "WORK_COUNTRY_US      uint8\n",
              "dtype: object"
            ]
          },
          "metadata": {},
          "execution_count": 87
        }
      ]
    },
    {
      "cell_type": "code",
      "source": [
        "data = pd.get_dummies(data, columns =['GENDER'])"
      ],
      "metadata": {
        "id": "K3cv33qzA8wV"
      },
      "execution_count": null,
      "outputs": []
    },
    {
      "cell_type": "code",
      "source": [
        "data.dtypes"
      ],
      "metadata": {
        "colab": {
          "base_uri": "https://localhost:8080/"
        },
        "id": "a2paqTdKBJBb",
        "outputId": "4c6ca786-ea57-4d1e-9c68-bba0c864abd3"
      },
      "execution_count": null,
      "outputs": [
        {
          "output_type": "execute_result",
          "data": {
            "text/plain": [
              "FFP_TIER             int64\n",
              "AGE                float64\n",
              "FLIGHT_COUNT         int64\n",
              "BP_SUM               int64\n",
              "SUM_YR_1           float64\n",
              "SUM_YR_2           float64\n",
              "SEG_KM_SUM           int64\n",
              "LAST_TO_END          int64\n",
              "AVG_INTERVAL       float64\n",
              "MAX_INTERVAL         int64\n",
              "EXCHANGE_COUNT       int64\n",
              "avg_discount       float64\n",
              "Points_Sum           int64\n",
              "Point_NotFlight      int64\n",
              "WORK_COUNTRY_CN      uint8\n",
              "WORK_COUNTRY_HK      uint8\n",
              "WORK_COUNTRY_JP      uint8\n",
              "WORK_COUNTRY_KR      uint8\n",
              "WORK_COUNTRY_US      uint8\n",
              "GENDER_Female        uint8\n",
              "GENDER_Male          uint8\n",
              "dtype: object"
            ]
          },
          "metadata": {},
          "execution_count": 90
        }
      ]
    },
    {
      "cell_type": "code",
      "source": [
        "data.shape"
      ],
      "metadata": {
        "colab": {
          "base_uri": "https://localhost:8080/"
        },
        "id": "WsRP5NhEBPyV",
        "outputId": "d212f1bb-0ea5-4f2d-8502-b03e68bcc7e3"
      },
      "execution_count": null,
      "outputs": [
        {
          "output_type": "execute_result",
          "data": {
            "text/plain": [
              "(7358, 21)"
            ]
          },
          "metadata": {},
          "execution_count": 91
        }
      ]
    },
    {
      "cell_type": "code",
      "source": [
        "#scaling\n",
        "import seaborn as sns\n",
        "sns.boxplot(data=data)"
      ],
      "metadata": {
        "colab": {
          "base_uri": "https://localhost:8080/",
          "height": 294
        },
        "id": "C1LdCvk8BV5Y",
        "outputId": "5cbec8de-0968-4ae6-c87a-c6b2fa99c4af"
      },
      "execution_count": null,
      "outputs": [
        {
          "output_type": "execute_result",
          "data": {
            "text/plain": [
              "<matplotlib.axes._subplots.AxesSubplot at 0x7f0abf843f50>"
            ]
          },
          "metadata": {},
          "execution_count": 92
        },
        {
          "output_type": "display_data",
          "data": {
            "text/plain": [
              "<Figure size 432x288 with 1 Axes>"
            ],
            "image/png": "[encoded data removed]"
          },
          "metadata": {
            "needs_background": "light"
          }
        }
      ]
    },
    {
      "cell_type": "code",
      "source": [
        "#scaling\n",
        "from sklearn.preprocessing import StandardScaler\n",
        "SC= StandardScaler()"
      ],
      "metadata": {
        "id": "gWmZ9sBVBf7Q"
      },
      "execution_count": null,
      "outputs": []
    },
    {
      "cell_type": "code",
      "source": [
        "SC.fit_transform(data)"
      ],
      "metadata": {
        "colab": {
          "base_uri": "https://localhost:8080/"
        },
        "id": "uY-DHQozBtf2",
        "outputId": "70fe9f6f-be2c-486b-f493-e18258047785"
      },
      "execution_count": null,
      "outputs": [
        {
          "output_type": "execute_result",
          "data": {
            "text/plain": [
              "array([[-0.07457281, -1.13815981, -0.50607024, ..., -0.07756198,\n",
              "        -0.65372172,  0.65372172],\n",
              "       [-0.07457281,  0.25432123,  0.83579095, ..., -0.07756198,\n",
              "         1.52970289, -1.52970289],\n",
              "       [-0.07457281, -0.93923394,  0.83579095, ..., -0.07756198,\n",
              "        -0.65372172,  0.65372172],\n",
              "       ...,\n",
              "       [-0.07457281,  0.25432123, -0.50607024, ..., -0.07756198,\n",
              "         1.52970289, -1.52970289],\n",
              "       [-0.07457281, -0.44191929, -0.50607024, ..., -0.07756198,\n",
              "         1.52970289, -1.52970289],\n",
              "       [-0.07457281, -1.13815981, -0.50607024, ..., -0.07756198,\n",
              "         1.52970289, -1.52970289]])"
            ]
          },
          "metadata": {},
          "execution_count": 96
        }
      ]
    },
    {
      "cell_type": "code",
      "source": [
        "#modeling\n",
        "from sklearn.cluster import KMeans\n",
        "km= KMeans()"
      ],
      "metadata": {
        "id": "dZod2YmgBxDQ"
      },
      "execution_count": null,
      "outputs": []
    },
    {
      "cell_type": "code",
      "source": [
        "y_km= km.fit_predict(data)"
      ],
      "metadata": {
        "id": "btK7tXxTB9DM"
      },
      "execution_count": null,
      "outputs": []
    },
    {
      "cell_type": "code",
      "source": [
        "y_km[0:20]"
      ],
      "metadata": {
        "colab": {
          "base_uri": "https://localhost:8080/"
        },
        "id": "WlbFXIxODP2Y",
        "outputId": "23031888-032f-46b1-c63b-3e9c1631a64b"
      },
      "execution_count": null,
      "outputs": [
        {
          "output_type": "execute_result",
          "data": {
            "text/plain": [
              "array([4, 7, 4, 4, 5, 4, 7, 0, 7, 4, 0, 0, 0, 0, 0, 0, 0, 0, 7, 0],\n",
              "      dtype=int32)"
            ]
          },
          "metadata": {},
          "execution_count": 99
        }
      ]
    },
    {
      "cell_type": "code",
      "source": [
        "objs= []\n",
        "for k in range(1, 11):\n",
        "  km= KMeans(n_clusters= k)\n",
        "  km.fit(data)\n",
        "  objs.append(km.inertia_)"
      ],
      "metadata": {
        "id": "NnrR79blDXFo"
      },
      "execution_count": null,
      "outputs": []
    },
    {
      "cell_type": "code",
      "source": [
        "objs"
      ],
      "metadata": {
        "colab": {
          "base_uri": "https://localhost:8080/"
        },
        "id": "F2h89MiXDkEN",
        "outputId": "f0e6138d-9716-4859-d6e0-7aafc4443c3c"
      },
      "execution_count": null,
      "outputs": [
        {
          "output_type": "execute_result",
          "data": {
            "text/plain": [
              "[1084674120446.0359,\n",
              " 116860706391.48595,\n",
              " 63325977852.27078,\n",
              " 41718646478.56972,\n",
              " 30069326752.14705,\n",
              " 25575759562.966183,\n",
              " 21267805772.60218,\n",
              " 18101158980.4279,\n",
              " 15936780436.92554,\n",
              " 13951270894.772905]"
            ]
          },
          "metadata": {},
          "execution_count": 105
        }
      ]
    },
    {
      "cell_type": "code",
      "source": [
        "import matplotlib.pyplot as plt"
      ],
      "metadata": {
        "id": "VvnfZGOCD50I"
      },
      "execution_count": null,
      "outputs": []
    },
    {
      "cell_type": "code",
      "source": [
        "plt.plot(range(1,11),objs,marker= 'o' )\n",
        "plt.xlabel('k')\n",
        "plt.xlabel('objs')"
      ],
      "metadata": {
        "colab": {
          "base_uri": "https://localhost:8080/",
          "height": 307
        },
        "id": "O3tOxIcEEK8A",
        "outputId": "2c08d3eb-02be-46f3-ea71-f07e8d53ac90"
      },
      "execution_count": null,
      "outputs": [
        {
          "output_type": "execute_result",
          "data": {
            "text/plain": [
              "Text(0.5, 0, 'objs')"
            ]
          },
          "metadata": {},
          "execution_count": 107
        },
        {
          "output_type": "display_data",
          "data": {
            "text/plain": [
              "<Figure size 432x288 with 1 Axes>"
            ],
            "image/png": "[encoded data removed]"
          },
          "metadata": {
            "needs_background": "light"
          }
        }
      ]
    },
    {
      "cell_type": "code",
      "source": [
        "from sklearn.metrics import silhouette_score"
      ],
      "metadata": {
        "id": "ZbjkirymEZF6"
      },
      "execution_count": null,
      "outputs": []
    },
    {
      "cell_type": "code",
      "source": [
        "silhouette_score(data, y_km)"
      ],
      "metadata": {
        "colab": {
          "base_uri": "https://localhost:8080/"
        },
        "id": "SjcH3Av5OxDS",
        "outputId": "6ba6fada-3d6e-48e3-fa53-1eaa77fc5d3d"
      },
      "execution_count": null,
      "outputs": [
        {
          "output_type": "execute_result",
          "data": {
            "text/plain": [
              "0.26236579233231083"
            ]
          },
          "metadata": {},
          "execution_count": 109
        }
      ]
    }
  ]
}